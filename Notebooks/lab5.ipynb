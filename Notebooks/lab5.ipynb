{
 "cells": [
  {
   "cell_type": "code",
   "execution_count": 4,
   "metadata": {
    "collapsed": true,
    "pycharm": {
     "is_executing": false
    }
   },
   "outputs": [
    {
     "name": "stdout",
     "text": [
      "file reut2-002 docs are being processed and extracted to ./.misc/docs/reut2-002\n",
      "file reut2-004 docs are being processed and extracted to ./.misc/docs/reut2-004\n",
      "file reut2-008 docs are being processed and extracted to ./.misc/docs/reut2-008\n",
      "file reut2-007 docs are being processed and extracted to ./.misc/docs/reut2-007\n",
      "file reut2-015 docs are being processed and extracted to ./.misc/docs/reut2-015\n",
      "file reut2-003 docs are being processed and extracted to ./.misc/docs/reut2-003\n",
      "file reut2-006 docs are being processed and extracted to ./.misc/docs/reut2-006\n",
      "file reut2-016 docs are being processed and extracted to ./.misc/docs/reut2-016\n",
      "file reut2-012 docs are being processed and extracted to ./.misc/docs/reut2-012\n",
      "file reut2-020 docs are being processed and extracted to ./.misc/docs/reut2-020\n",
      "file reut2-000 docs are being processed and extracted to ./.misc/docs/reut2-000\n",
      "file reut2-011 docs are being processed and extracted to ./.misc/docs/reut2-011\n",
      "file reut2-010 docs are being processed and extracted to ./.misc/docs/reut2-010\n",
      "file reut2-021 docs are being processed and extracted to ./.misc/docs/reut2-021\n",
      "file reut2-014 docs are being processed and extracted to ./.misc/docs/reut2-014\n",
      "file reut2-017 docs are being processed and extracted to ./.misc/docs/reut2-017\n",
      "file reut2-018 docs are being processed and extracted to ./.misc/docs/reut2-018\n",
      "file reut2-009 docs are being processed and extracted to ./.misc/docs/reut2-009\n",
      "file reut2-005 docs are being processed and extracted to ./.misc/docs/reut2-005\n",
      "file reut2-001 docs are being processed and extracted to ./.misc/docs/reut2-001\n",
      "file reut2-013 docs are being processed and extracted to ./.misc/docs/reut2-013\n",
      "file reut2-019 docs are being processed and extracted to ./.misc/docs/reut2-019\n",
      "wtf\n"
     ],
     "output_type": "stream"
    }
   ],
   "source": [
    "from System.Crawler.crawler import Crawler\n",
    "\n",
    "crawler = Crawler(downloaded=True)\n",
    "crawler.get_collection()\n",
    "crawler.retrieve_all_docs()\n",
    "print('wtf')"
   ]
  },
  {
   "cell_type": "markdown",
   "source": [
    "After we have got all the documents lets check the number of distinct words"
   ],
   "metadata": {
    "collapsed": false
   }
  },
  {
   "cell_type": "code",
   "execution_count": 5,
   "outputs": [
    {
     "name": "stdout",
     "text": [
      "\n",
      " 5-MAR-1987 09:07:54.17\n",
      "earn\n",
      "uk\n",
      "\n",
      "\n",
      "\n",
      "\n",
      " \n",
      "\u0005\u0005\u0005F\n",
      "\u0016\u0016\u0001f0986\u001freute\n",
      "d f BC-JAGUAR-SEES-STRONG-GR   03-05 0115\n",
      "\u0002\n",
      "JAGUAR SEES STRONG GROWTH IN NEW MODEL SALES\n",
      "    LONDON, March 5 - Jaguar Plc <JAGR.L> is about to sell its\n",
      "new XJ-6 model on the U.S. And Japanese markets and expects a\n",
      "strong reception based on its success in the U.K., Chairman Sir\n",
      "John Egan told a news conference.\n",
      "    Commenting on an 11 pct growth in 1986 group turnover to\n",
      "830.4 mln stg and pre-tax profits at 120.8 mln stg, slightly\n",
      "below 1985's 121.3 mln, Egan said Jaguar aimed at an average\n",
      "profit growth of 15 pct per year. However, the introduction of\n",
      "the new model had kept this year's pre-tax profit down.\n",
      "    Jaguar starts selling XJ-6 in the U.S. In May and plans to\n",
      "sell 25,000 of its total 47,000 production there in 1987.\n",
      "    U.S. Sales now account for 65 pct of total turnover,\n",
      "finance director John Edwards said.\n",
      "    A U.S. Price for the car has not been set yet, but Edwards\n",
      "said the relatively high car prices in dollars of West German\n",
      "competitors offered an \"umbrella\" for Jaguar. He added the XJ-6\n",
      "had also to compete with U.S. Luxury car producers which would\n",
      "restrict the car's price.\n",
      "    Jaguar hedges a majority of its dollar receipts on a\n",
      "12-month rolling basis and plans to do so for a larger part of\n",
      "its receipts for longer periods, John Egan said.\n",
      "    In the longer term, capital expenditure will amount to 10\n",
      "pct of net sales. Research and development will cost four pct\n",
      "of net sales and training two pct.\n",
      "    Jaguar builds half of its cars and buys components for the\n",
      "other half. The firm is in early stages of considering the\n",
      "building of an own press shop in Britain for about 80 mln stg,\n",
      "but Egan said this would take at least another three years\n",
      "    On the London Stock Exchange, Jaguar's shares were last\n",
      "quoted at 591p, down from 611p at yesterday's close, after\n",
      "reporting 1986 results which were in line with market\n",
      "expectations, dealers said.\n",
      " REUTER...\n",
      "\u0003\n",
      "\n"
     ],
     "output_type": "stream"
    }
   ],
   "source": [
    "docs = crawler.retrieve_all_docs()\n",
    "docs = list(map(lambda x: x[1], docs))\n",
    "print(docs[0])"
   ],
   "metadata": {
    "collapsed": false,
    "pycharm": {
     "name": "#%%\n",
     "is_executing": false
    }
   }
  },
  {
   "cell_type": "markdown",
   "source": [
    "# Preprocess article"
   ],
   "metadata": {
    "collapsed": false
   }
  },
  {
   "cell_type": "code",
   "execution_count": 1,
   "outputs": [],
   "source": [
    "from System.Parser.query_parser import Parser, stemmatiztion, lemmatization\n",
    "parser = Parser()"
   ],
   "metadata": {
    "collapsed": false,
    "pycharm": {
     "name": "#%%\n",
     "is_executing": false
    }
   }
  },
  {
   "cell_type": "code",
   "execution_count": 3,
   "outputs": [
    {
     "name": "stdout",
     "text": [
      "['$hello$', '$studi$', '$inform$', '$retriev$', '$semest$', '$quit$', '$like$', '$inform$']\n"
     ],
     "output_type": "stream"
    }
   ],
   "source": [
    "print(parser.preprocess('Hello I studied information retrieval this semester, and i quite like the information'))\n",
    "\n"
   ],
   "metadata": {
    "collapsed": false,
    "pycharm": {
     "name": "#%%\n",
     "is_executing": false
    }
   }
  },
  {
   "cell_type": "code",
   "execution_count": 15,
   "outputs": [
    {
     "name": "stdout",
     "text": [
      "149278\n"
     ],
     "output_type": "stream"
    }
   ],
   "source": [
    "import functools \n",
    "\n",
    "sets = map(lambda x:set(parser.preprocess(x)) ,docs)\n",
    "s = functools.reduce(lambda x,y: x|y, sets)\n",
    "print(len(s))"
   ],
   "metadata": {
    "collapsed": false,
    "pycharm": {
     "name": "#%%\n",
     "is_executing": false
    }
   }
  },
  {
   "cell_type": "code",
   "execution_count": 16,
   "outputs": [
    {
     "name": "stdout",
     "text": [
      "['$antiwrinkl$', '$initialr$', '$thecibageigi$', '$issatisfi$', '$usabrazilcanada$', '$gasconglomer$', '$developmentstag$', '$ofbeef$', '$branchlast$', '$succ$']\n"
     ],
     "output_type": "stream"
    }
   ],
   "source": [
    "words = list(s)\n",
    "\n",
    "print(words[:10])"
   ],
   "metadata": {
    "collapsed": false,
    "pycharm": {
     "name": "#%%\n",
     "is_executing": false
    }
   }
  },
  {
   "cell_type": "markdown",
   "source": [
    "# Size of words is 149278\n",
    "\n",
    "we notice that the size of words in all the documents after preprocessing is small\n",
    "therefore we cannot take the whole terms that are present in the documents or\n",
    "therefore we can take the first 1000 to occur or lets say the most frequent thousand\n",
    "\n",
    "## Most frequent or the first thousand to arrive\n",
    "\n",
    "I am not sure which to take because keywords frequency in the documents dont matter as \n",
    "their frequency while queries \n",
    "I will take the first thousand that occur from random retrieval of documents\n"
   ],
   "metadata": {
    "collapsed": false
   }
  }
 ],
 "metadata": {
  "kernelspec": {
   "display_name": "Python 3",
   "language": "python",
   "name": "python3"
  },
  "language_info": {
   "codemirror_mode": {
    "name": "ipython",
    "version": 3
   },
   "file_extension": ".py",
   "mimetype": "text/x-python",
   "name": "python",
   "nbconvert_exporter": "python",
   "pygments_lexer": "ipython3",
   "version": "3.7.4"
  },
  "pycharm": {
   "stem_cell": {
    "cell_type": "raw",
    "source": [],
    "metadata": {
     "collapsed": false
    }
   }
  }
 },
 "nbformat": 4,
 "nbformat_minor": 1
}