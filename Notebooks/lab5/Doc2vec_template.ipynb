{
 "cells": [
  {
   "cell_type": "markdown",
   "metadata": {},
   "source": [
    "# Evolving vector-space model\n",
    "\n",
    "This lab will be devoted to the use of `doc2vec` model for the needs of information retrieval and text classification.  \n",
    "\n",
    "## 1. Searching in the curious facts database\n",
    "The facts dataset is given [here](https://github.com/hsu-ai-course/hsu.ai/blob/master/code/datasets/nlp/facts.txt), take a look.  We want you to retrieve facts relevant to the query, for example, you type \"good mood\", and get to know that Cherophobia is the fear of fun. For this, the idea is to utilize document vectors. However, instead of forming vectors with tf-idf and reducing dimensions, this time we want to obtain fixed-size vectors for documents using `doc2vec` model.\n",
    "\n",
    "### 1.1 Loading trained `doc2vec` model\n",
    "\n",
    "First, let's load the pre-trained `doc2vec` model from https://github.com/jhlau/doc2vec (Associated Press News DBOW (0.6GB))"
   ]
  },
  {
   "cell_type": "code",
   "execution_count": 1,
   "metadata": {
    "pycharm": {
     "is_executing": false
    }
   },
   "outputs": [
    {
     "name": "stdout",
     "text": [
      "Requirement already satisfied: gensim in /home/jafar/PycharmProjects/Search-Engine-IR/venv/lib/python3.7/site-packages (3.8.1)\r\n",
      "Requirement already satisfied: numpy>=1.11.3 in /home/jafar/PycharmProjects/Search-Engine-IR/venv/lib/python3.7/site-packages (from gensim) (1.18.1)\r\n",
      "Requirement already satisfied: smart-open>=1.8.1 in /home/jafar/PycharmProjects/Search-Engine-IR/venv/lib/python3.7/site-packages (from gensim) (1.10.0)\r\n",
      "Requirement already satisfied: six>=1.5.0 in /home/jafar/PycharmProjects/Search-Engine-IR/venv/lib/python3.7/site-packages (from gensim) (1.14.0)\r\n",
      "Requirement already satisfied: scipy>=0.18.1 in /home/jafar/PycharmProjects/Search-Engine-IR/venv/lib/python3.7/site-packages (from gensim) (1.4.1)\r\n",
      "Requirement already satisfied: requests in /home/jafar/PycharmProjects/Search-Engine-IR/venv/lib/python3.7/site-packages (from smart-open>=1.8.1->gensim) (2.23.0)\r\n",
      "Requirement already satisfied: boto3 in /home/jafar/PycharmProjects/Search-Engine-IR/venv/lib/python3.7/site-packages (from smart-open>=1.8.1->gensim) (1.12.26)\r\n",
      "Requirement already satisfied: google-cloud-storage in /home/jafar/PycharmProjects/Search-Engine-IR/venv/lib/python3.7/site-packages (from smart-open>=1.8.1->gensim) (1.26.0)\r\n",
      "Requirement already satisfied: idna<3,>=2.5 in /home/jafar/PycharmProjects/Search-Engine-IR/venv/lib/python3.7/site-packages (from requests->smart-open>=1.8.1->gensim) (2.9)\r\n",
      "Requirement already satisfied: chardet<4,>=3.0.2 in /home/jafar/PycharmProjects/Search-Engine-IR/venv/lib/python3.7/site-packages (from requests->smart-open>=1.8.1->gensim) (3.0.4)\r\n",
      "Requirement already satisfied: urllib3!=1.25.0,!=1.25.1,<1.26,>=1.21.1 in /home/jafar/PycharmProjects/Search-Engine-IR/venv/lib/python3.7/site-packages (from requests->smart-open>=1.8.1->gensim) (1.25.8)\r\n",
      "Requirement already satisfied: certifi>=2017.4.17 in /home/jafar/PycharmProjects/Search-Engine-IR/venv/lib/python3.7/site-packages (from requests->smart-open>=1.8.1->gensim) (2019.11.28)\r\n",
      "Requirement already satisfied: jmespath<1.0.0,>=0.7.1 in /home/jafar/PycharmProjects/Search-Engine-IR/venv/lib/python3.7/site-packages (from boto3->smart-open>=1.8.1->gensim) (0.9.5)\r\n",
      "Requirement already satisfied: s3transfer<0.4.0,>=0.3.0 in /home/jafar/PycharmProjects/Search-Engine-IR/venv/lib/python3.7/site-packages (from boto3->smart-open>=1.8.1->gensim) (0.3.3)\r\n",
      "Requirement already satisfied: botocore<1.16.0,>=1.15.26 in /home/jafar/PycharmProjects/Search-Engine-IR/venv/lib/python3.7/site-packages (from boto3->smart-open>=1.8.1->gensim) (1.15.26)\r\n",
      "Requirement already satisfied: google-auth<2.0dev,>=1.11.0 in /home/jafar/PycharmProjects/Search-Engine-IR/venv/lib/python3.7/site-packages (from google-cloud-storage->smart-open>=1.8.1->gensim) (1.11.3)\r\n",
      "Requirement already satisfied: google-cloud-core<2.0dev,>=1.2.0 in /home/jafar/PycharmProjects/Search-Engine-IR/venv/lib/python3.7/site-packages (from google-cloud-storage->smart-open>=1.8.1->gensim) (1.3.0)\r\n",
      "Requirement already satisfied: google-resumable-media<0.6dev,>=0.5.0 in /home/jafar/PycharmProjects/Search-Engine-IR/venv/lib/python3.7/site-packages (from google-cloud-storage->smart-open>=1.8.1->gensim) (0.5.0)\r\n",
      "Requirement already satisfied: docutils<0.16,>=0.10 in /home/jafar/PycharmProjects/Search-Engine-IR/venv/lib/python3.7/site-packages (from botocore<1.16.0,>=1.15.26->boto3->smart-open>=1.8.1->gensim) (0.15.2)\r\n",
      "Requirement already satisfied: python-dateutil<3.0.0,>=2.1 in /home/jafar/PycharmProjects/Search-Engine-IR/venv/lib/python3.7/site-packages (from botocore<1.16.0,>=1.15.26->boto3->smart-open>=1.8.1->gensim) (2.8.1)\r\n",
      "Requirement already satisfied: setuptools>=40.3.0 in /home/jafar/PycharmProjects/Search-Engine-IR/venv/lib/python3.7/site-packages/setuptools-40.8.0-py3.7.egg (from google-auth<2.0dev,>=1.11.0->google-cloud-storage->smart-open>=1.8.1->gensim) (40.8.0)\r\n",
      "Requirement already satisfied: rsa<4.1,>=3.1.4 in /home/jafar/PycharmProjects/Search-Engine-IR/venv/lib/python3.7/site-packages (from google-auth<2.0dev,>=1.11.0->google-cloud-storage->smart-open>=1.8.1->gensim) (4.0)\r\n",
      "Requirement already satisfied: pyasn1-modules>=0.2.1 in /home/jafar/PycharmProjects/Search-Engine-IR/venv/lib/python3.7/site-packages (from google-auth<2.0dev,>=1.11.0->google-cloud-storage->smart-open>=1.8.1->gensim) (0.2.8)\r\n",
      "Requirement already satisfied: cachetools<5.0,>=2.0.0 in /home/jafar/PycharmProjects/Search-Engine-IR/venv/lib/python3.7/site-packages (from google-auth<2.0dev,>=1.11.0->google-cloud-storage->smart-open>=1.8.1->gensim) (4.0.0)\r\n",
      "Requirement already satisfied: google-api-core<2.0.0dev,>=1.16.0 in /home/jafar/PycharmProjects/Search-Engine-IR/venv/lib/python3.7/site-packages (from google-cloud-core<2.0dev,>=1.2.0->google-cloud-storage->smart-open>=1.8.1->gensim) (1.16.0)\r\n",
      "Requirement already satisfied: pyasn1>=0.1.3 in /home/jafar/PycharmProjects/Search-Engine-IR/venv/lib/python3.7/site-packages (from rsa<4.1,>=3.1.4->google-auth<2.0dev,>=1.11.0->google-cloud-storage->smart-open>=1.8.1->gensim) (0.4.8)\r\n",
      "Requirement already satisfied: pytz in /home/jafar/PycharmProjects/Search-Engine-IR/venv/lib/python3.7/site-packages (from google-api-core<2.0.0dev,>=1.16.0->google-cloud-core<2.0dev,>=1.2.0->google-cloud-storage->smart-open>=1.8.1->gensim) (2019.3)\r\n",
      "Requirement already satisfied: protobuf>=3.4.0 in /home/jafar/PycharmProjects/Search-Engine-IR/venv/lib/python3.7/site-packages (from google-api-core<2.0.0dev,>=1.16.0->google-cloud-core<2.0dev,>=1.2.0->google-cloud-storage->smart-open>=1.8.1->gensim) (3.11.3)\r\n",
      "Requirement already satisfied: googleapis-common-protos<2.0dev,>=1.6.0 in /home/jafar/PycharmProjects/Search-Engine-IR/venv/lib/python3.7/site-packages (from google-api-core<2.0.0dev,>=1.16.0->google-cloud-core<2.0dev,>=1.2.0->google-cloud-storage->smart-open>=1.8.1->gensim) (1.51.0)\r\n"
     ],
     "output_type": "stream"
    }
   ],
   "source": [
    "!pip install gensim"
   ]
  },
  {
   "cell_type": "code",
   "execution_count": 2,
   "metadata": {
    "pycharm": {
     "is_executing": false
    }
   },
   "outputs": [],
   "source": [
    "!cd apnews_dbow/"
   ]
  },
  {
   "cell_type": "code",
   "execution_count": 1,
   "metadata": {
    "pycharm": {
     "is_executing": false
    }
   },
   "outputs": [
    {
     "name": "stdout",
     "text": [
      "/home/jafar/PycharmProjects/Search-Engine-IR/Notebooks/lab5/apnews_dbow\n"
     ],
     "output_type": "stream"
    }
   ],
   "source": [
    "%cd apnews_dbow/"
   ]
  },
  {
   "cell_type": "code",
   "execution_count": 2,
   "metadata": {
    "pycharm": {
     "is_executing": false
    }
   },
   "outputs": [
    {
     "name": "stdout",
     "text": [
      "<class 'gensim.models.doc2vec.Doc2Vec'>\n",
      "<class 'numpy.ndarray'>\n"
     ],
     "output_type": "stream"
    }
   ],
   "source": [
    "from gensim.models.doc2vec import Doc2Vec\n",
    "\n",
    "# unpack a model into 3 files and target the main one\n",
    "# doc2vec.bin  <---------- this\n",
    "# doc2vec.bin.syn0.npy\n",
    "# doc2vec.bin.sin1neg.npy\n",
    "model = Doc2Vec.load('doc2vec.bin', mmap=None)\n",
    "print(type(model))\n",
    "print(type(model.infer_vector([\"to\", \"be\", \"or\", \"not\"])))"
   ]
  },
  {
   "cell_type": "markdown",
   "metadata": {},
   "source": [
    "### 1.2 Reading data\n",
    "\n",
    "Now, let's read the facts dataset. Download it from the abovementioned url and read to the list of sentences."
   ]
  },
  {
   "cell_type": "code",
   "execution_count": 6,
   "outputs": [
    {
     "name": "stdout",
     "text": [
      "--2020-03-24 17:10:24--  https://raw.githubusercontent.com/hsu-ai-course/hsu.ai/master/code/datasets/nlp/facts.txt\r\n",
      "Resolving raw.githubusercontent.com (raw.githubusercontent.com)... 151.101.244.133\r\n",
      "Connecting to raw.githubusercontent.com (raw.githubusercontent.com)|151.101.244.133|:443... connected.\r\n",
      "HTTP request sent, awaiting response... 200 OK\r\n",
      "Length: 13158 (13K) [text/plain]\r\n",
      "Saving to: ‘facts.txt’\r\n",
      "\r\n",
      "facts.txt           100%[===================>]  12.85K  --.-KB/s    in 0.06s   \r\n",
      "\r\n",
      "2020-03-24 17:10:25 (199 KB/s) - ‘facts.txt’ saved [13158/13158]\r\n",
      "\r\n"
     ],
     "output_type": "stream"
    }
   ],
   "source": [
    "!wget 'https://raw.githubusercontent.com/hsu-ai-course/hsu.ai/master/code/datasets/nlp/facts.txt'"
   ],
   "metadata": {
    "collapsed": false,
    "pycharm": {
     "name": "#%%\n",
     "is_executing": false
    }
   }
  },
  {
   "cell_type": "code",
   "execution_count": 3,
   "metadata": {
    "scrolled": true,
    "pycharm": {
     "is_executing": false
    }
   },
   "outputs": [],
   "source": [
    "#TODO read facts into list\n",
    "with open('facts.txt',  encoding=\"ISO-8859-1\") as f:\n",
    "    facts = f.readlines()"
   ]
  },
  {
   "cell_type": "markdown",
   "metadata": {},
   "source": [
    "### 1.3 Tests"
   ]
  },
  {
   "cell_type": "code",
   "execution_count": 4,
   "metadata": {
    "pycharm": {
     "is_executing": false
    }
   },
   "outputs": [
    {
     "name": "stdout",
     "text": [
      "1. If you somehow found a way to extract all of the gold from the bubbling core of our lovely little planet, you would be able to cover all of the land in a layer of gold up to your knees.\n",
      "\n",
      "2. McDonalds calls frequent buyers of their food heavy users.\n",
      "\n",
      "3. The average person spends 6 months of their lifetime waiting on a red light to turn green.\n",
      "\n",
      "4. The largest recorded snowflake was in Keogh, MT during year 1887, and was 15 inches wide.\n",
      "\n",
      "5. You burn more calories sleeping than you do watching television.\n",
      "\n"
     ],
     "output_type": "stream"
    }
   ],
   "source": [
    "print(*facts[:5], sep='\\n')\n",
    "\n",
    "assert len(facts) == 159\n",
    "assert ('our lovely little planet') in facts[0]"
   ]
  },
  {
   "cell_type": "markdown",
   "metadata": {},
   "source": [
    "### 1.4  Transforming sentences to vectors\n",
    "\n",
    "Transform the list of facts to numpy array of vectors corresponding to each document (`sent_vecs`), inferring them from the model we just loaded."
   ]
  },
  {
   "cell_type": "code",
   "execution_count": 5,
   "outputs": [
    {
     "name": "stdout",
     "text": [
      "<gensim.models.keyedvectors.Doc2VecKeyedVectors object at 0x7f29cf0a50d0>\n"
     ],
     "output_type": "stream"
    }
   ],
   "source": [
    "print(model.docvecs)"
   ],
   "metadata": {
    "collapsed": false,
    "pycharm": {
     "name": "#%%\n",
     "is_executing": false
    }
   }
  },
  {
   "cell_type": "code",
   "execution_count": 6,
   "metadata": {
    "collapsed": true,
    "pycharm": {
     "is_executing": false
    }
   },
   "outputs": [],
   "source": [
    "import numpy as np\n",
    "#TODO infer vectors\n",
    "sent_vecs = np.array(list(map(lambda x: model.infer_vector(x.split(' ')), facts)))"
   ]
  },
  {
   "cell_type": "markdown",
   "metadata": {},
   "source": [
    "### 1.5 Tests "
   ]
  },
  {
   "cell_type": "code",
   "execution_count": 7,
   "metadata": {
    "scrolled": true,
    "pycharm": {
     "is_executing": false
    }
   },
   "outputs": [
    {
     "name": "stdout",
     "text": [
      "(159, 300)\n"
     ],
     "output_type": "stream"
    }
   ],
   "source": [
    "print(sent_vecs.shape)\n",
    "assert sent_vecs.shape == (159, 300)"
   ]
  },
  {
   "cell_type": "markdown",
   "metadata": {},
   "source": [
    "### 1.6 Find closest\n",
    "\n",
    "Now, reusing the code from the last lab, find facts which are closest to the query using cosine similarity measure."
   ]
  },
  {
   "cell_type": "code",
   "execution_count": 8,
   "metadata": {
    "pycharm": {
     "is_executing": false
    }
   },
   "outputs": [
    {
     "name": "stderr",
     "text": [
      "[nltk_data] Downloading package punkt to /home/jafar/nltk_data...\n",
      "[nltk_data]   Package punkt is already up-to-date!\n",
      "[nltk_data] Downloading package stopwords to /home/jafar/nltk_data...\n",
      "[nltk_data]   Package stopwords is already up-to-date!\n",
      "[nltk_data] Downloading package wordnet to /home/jafar/nltk_data...\n",
      "[nltk_data]   Package wordnet is already up-to-date!\n"
     ],
     "output_type": "stream"
    },
    {
     "name": "stdout",
     "text": [
      "True\n",
      "dict_keys(['1', '2', '3', '4', '5', '6', '7', '8', '9', '10', '11', '12', '13', '14', '15', '16', '17', '18', '19', '20', '21', '22', '23', '24', '25', '26', '27', '28', '29', '30', '31', '32', '33', '34', '35', '36', '37', '38', '39', '40', '41', '42', '43', '44', '45', '46', '47', '48', '49', '50', '51', '52', '53', '54', '55', '56', '57', '58', '59', '60', '61', '62', '63', '64', '65', '66', '67', '68', '69', '70', '71', '72', '73', '74', '75', '76', '77', '78', '79', '80', '81', '82', '83', '84', '85', '86', '87', '88', '89', '90', '91', '92', '93', '94', '95', '96', '97', '98', '99', '100', '101', '102', '103', '104', '105', '106', '107', '108', '109', '110', '111', '112', '113', '114', '115', '116', '117', '118', '119', '120', '121', '122', '123', '124', '125', '126', '127', '128', '129', '130', '131', '132', '133', '134', '135', '136', '137', '138', '139', '140', '141', '142', '143', '144', '145', '146', '147', '148', '149', '150', '151', '152', '153', '154', '155', '156', '157', '158', '159'])\n",
      "{'$good$': 0.7071067811865475, '$mood$': 0.7071067811865475}\n",
      "{'$somehow$': 0.22941573387056174, '$found$': 0.22941573387056174, '$way$': 0.22941573387056174, '$extract$': 0.22941573387056174, '$gold$': 0.4588314677411235, '$bubbl$': 0.22941573387056174, '$core$': 0.22941573387056174, '$love$': 0.22941573387056174, '$littl$': 0.22941573387056174, '$planet$': 0.22941573387056174, '$would$': 0.22941573387056174, '$abl$': 0.22941573387056174, '$cover$': 0.22941573387056174, '$land$': 0.22941573387056174, '$layer$': 0.22941573387056174, '$knee$': 0.22941573387056174}\n",
      "Len rows is  2\n",
      "{'$good$': 0.7071067811865475, '$mood$': 0.7071067811865475}\n",
      "{'$mcdonald$': 0.3779644730092272, '$call$': 0.3779644730092272, '$frequent$': 0.3779644730092272, '$buyer$': 0.3779644730092272, '$food$': 0.3779644730092272, '$heavi$': 0.3779644730092272, '$user$': 0.3779644730092272}\n",
      "Len rows is  2\n",
      "{'$good$': 0.7071067811865475, '$mood$': 0.7071067811865475}\n",
      "{'$averag$': 0.31622776601683794, '$person$': 0.31622776601683794, '$spend$': 0.31622776601683794, '$month$': 0.31622776601683794, '$lifetim$': 0.31622776601683794, '$wait$': 0.31622776601683794, '$red$': 0.31622776601683794, '$light$': 0.31622776601683794, '$turn$': 0.31622776601683794, '$green$': 0.31622776601683794}\n",
      "Len rows is  2\n",
      "{'$good$': 0.7071067811865475, '$mood$': 0.7071067811865475}\n",
      "{'$largest$': 0.2773500981126146, '$record$': 0.2773500981126146, '$snowflak$': 0.2773500981126146, '$wa$': 0.5547001962252291, '$keogh$': 0.2773500981126146, '$mt$': 0.2773500981126146, '$dure$': 0.2773500981126146, '$year$': 0.2773500981126146, '$inch$': 0.2773500981126146, '$wide$': 0.2773500981126146}\n",
      "Len rows is  2\n",
      "{'$good$': 0.7071067811865475, '$mood$': 0.7071067811865475}\n",
      "{'$burn$': 0.4472135954999579, '$calori$': 0.4472135954999579, '$sleep$': 0.4472135954999579, '$watch$': 0.4472135954999579, '$televis$': 0.4472135954999579}\n",
      "Len rows is  2\n",
      "{'$good$': 0.7071067811865475, '$mood$': 0.7071067811865475}\n",
      "{'$lifeform$': 0.4472135954999579, '$live$': 0.4472135954999579, '$skin$': 0.4472135954999579, '$peopl$': 0.4472135954999579, '$planet$': 0.4472135954999579}\n",
      "Len rows is  2\n",
      "{'$good$': 0.7071067811865475, '$mood$': 0.7071067811865475}\n",
      "{'$southern$': 0.2672612419124244, '$sea$': 0.2672612419124244, '$otter$': 0.2672612419124244, '$flap$': 0.2672612419124244, '$skin$': 0.2672612419124244, '$foreleg$': 0.2672612419124244, '$act$': 0.2672612419124244, '$pocket$': 0.2672612419124244, '$dive$': 0.2672612419124244, '$use$': 0.2672612419124244, '$pouch$': 0.2672612419124244, '$store$': 0.2672612419124244, '$rock$': 0.2672612419124244, '$food$': 0.2672612419124244}\n",
      "Len rows is  2\n",
      "{'$good$': 0.7071067811865475, '$mood$': 0.7071067811865475}\n",
      "{'$pig$': 0.35355339059327373, '$franc$': 0.35355339059327373, '$wa$': 0.35355339059327373, '$execut$': 0.35355339059327373, '$public$': 0.35355339059327373, '$hang$': 0.35355339059327373, '$murder$': 0.35355339059327373, '$child$': 0.35355339059327373}\n",
      "Len rows is  2\n",
      "{'$good$': 0.7071067811865475, '$mood$': 0.7071067811865475}\n",
      "{'$one$': 0.31622776601683794, '$everi$': 0.31622776601683794, '$five$': 0.31622776601683794, '$adult$': 0.31622776601683794, '$believ$': 0.31622776601683794, '$alien$': 0.31622776601683794, '$hide$': 0.31622776601683794, '$planet$': 0.31622776601683794, '$disguis$': 0.31622776601683794, '$human$': 0.31622776601683794}\n",
      "Len rows is  2\n",
      "{'$good$': 0.7071067811865475, '$mood$': 0.7071067811865475}\n",
      "{'$believ$': 0.35355339059327373, '$truli$': 0.35355339059327373, '$one$': 0.35355339059327373, '$million$': 0.35355339059327373, '$still$': 0.35355339059327373, '$approxim$': 0.35355339059327373, '$peopl$': 0.35355339059327373, '$like$': 0.35355339059327373}\n",
      "Len rows is  2\n",
      "{'$good$': 0.7071067811865475, '$mood$': 0.7071067811865475}\n",
      "{'$singl$': 0.4472135954999579, '$cloud$': 0.4472135954999579, '$weight$': 0.4472135954999579, '$million$': 0.4472135954999579, '$pound$': 0.4472135954999579}\n",
      "Len rows is  2\n",
      "{'$good$': 0.7071067811865475, '$mood$': 0.7071067811865475}\n",
      "{'$human$': 0.3779644730092272, '$eat$': 0.3779644730092272, '$averag$': 0.3779644730092272, '$assort$': 0.3779644730092272, '$insect$': 0.3779644730092272, '$spider$': 0.3779644730092272, '$sleep$': 0.3779644730092272}\n",
      "Len rows is  2\n",
      "{'$good$': 0.7071067811865475, '$mood$': 0.7071067811865475}\n",
      "{'$jame$': 0.30151134457776363, '$buchanan$': 0.30151134457776363, '$th$': 0.30151134457776363, '$u$': 0.30151134457776363, '$presid$': 0.30151134457776363, '$continu$': 0.30151134457776363, '$bought$': 0.30151134457776363, '$slave$': 0.30151134457776363, '$money$': 0.30151134457776363, '$order$': 0.30151134457776363, '$free$': 0.30151134457776363}\n",
      "Len rows is  2\n",
      "{'$good$': 0.7071067811865475, '$mood$': 0.7071067811865475}\n",
      "{'$possibl$': 0.3779644730092272, '$iter$': 0.3779644730092272, '$game$': 0.3779644730092272, '$chess$': 0.3779644730092272, '$atom$': 0.3779644730092272, '$known$': 0.3779644730092272, '$univers$': 0.3779644730092272}\n",
      "Len rows is  2\n",
      "{'$good$': 0.7071067811865475, '$mood$': 0.7071067811865475}\n",
      "{'$averag$': 0.3333333333333333, '$person$': 0.3333333333333333, '$walk$': 0.3333333333333333, '$equival$': 0.3333333333333333, '$three$': 0.3333333333333333, '$time$': 0.3333333333333333, '$around$': 0.3333333333333333, '$world$': 0.3333333333333333, '$lifetim$': 0.3333333333333333}\n",
      "Len rows is  2\n",
      "{'$good$': 0.7071067811865475, '$mood$': 0.7071067811865475}\n",
      "{'$men$': 0.4082482904638631, '$time$': 0.4082482904638631, '$like$': 0.4082482904638631, '$struck$': 0.4082482904638631, '$lightn$': 0.4082482904638631, '$woman$': 0.4082482904638631}\n",
      "Len rows is  2\n",
      "{'$good$': 0.7071067811865475, '$mood$': 0.7071067811865475}\n",
      "{'$cocacola$': 0.4082482904638631, '$would$': 0.4082482904638631, '$green$': 0.4082482904638631, '$color$': 0.4082482904638631, '$wasnt$': 0.4082482904638631, '$ad$': 0.4082482904638631}\n",
      "Len rows is  2\n",
      "{'$good$': 0.7071067811865475, '$mood$': 0.7071067811865475}\n",
      "{'$snore$': 0.5773502691896258, '$dream$': 0.5773502691896258, '$time$': 0.5773502691896258}\n",
      "Len rows is  2\n",
      "{'$good$': 0.7071067811865475, '$mood$': 0.7071067811865475}\n",
      "{'$world$': 0.3779644730092272, '$oldest$': 0.3779644730092272, '$piec$': 0.3779644730092272, '$chew$': 0.3779644730092272, '$gum$': 0.3779644730092272, '$year$': 0.3779644730092272, '$old$': 0.3779644730092272}\n",
      "Len rows is  2\n",
      "{'$good$': 0.7071067811865475, '$mood$': 0.7071067811865475}\n",
      "{'$coyot$': 0.3779644730092272, '$hear$': 0.3779644730092272, '$mous$': 0.3779644730092272, '$move$': 0.3779644730092272, '$underneath$': 0.3779644730092272, '$foot$': 0.3779644730092272, '$snow$': 0.3779644730092272}\n",
      "Len rows is  2\n",
      "{'$good$': 0.7071067811865475, '$mood$': 0.7071067811865475}\n",
      "{'$bolt$': 0.4472135954999579, '$lightn$': 0.4472135954999579, '$shoot$': 0.4472135954999579, '$erupt$': 0.4472135954999579, '$volcano$': 0.4472135954999579}\n",
      "Len rows is  2\n",
      "{'$good$': 0.7071067811865475, '$mood$': 0.7071067811865475}\n",
      "{'$new$': 0.3333333333333333, '$york$': 0.3333333333333333, '$drift$': 0.3333333333333333, '$one$': 0.3333333333333333, '$inch$': 0.3333333333333333, '$farther$': 0.3333333333333333, '$away$': 0.3333333333333333, '$london$': 0.3333333333333333, '$year$': 0.3333333333333333}\n",
      "Len rows is  2\n",
      "{'$good$': 0.7071067811865475, '$mood$': 0.7071067811865475}\n",
      "{'$u$': 0.3333333333333333, '$dollar$': 0.3333333333333333, '$bill$': 0.3333333333333333, '$fold$': 0.3333333333333333, '$approxim$': 0.3333333333333333, '$time$': 0.3333333333333333, '$place$': 0.3333333333333333, '$befor$': 0.3333333333333333, '$tear$': 0.3333333333333333}\n",
      "Len rows is  2\n",
      "{'$good$': 0.7071067811865475, '$mood$': 0.7071067811865475}\n",
      "{'$sneez$': 0.4472135954999579, '$travel$': 0.4472135954999579, '$mile$': 0.4472135954999579, '$per$': 0.4472135954999579, '$hour$': 0.4472135954999579}\n",
      "Len rows is  2\n",
      "{'$good$': 0.7071067811865475, '$mood$': 0.7071067811865475}\n",
      "{'$earth$': 0.4082482904638631, '$ha$': 0.4082482904638631, '$travel$': 0.4082482904638631, '$mile$': 0.4082482904638631, '$past$': 0.4082482904638631, '$minut$': 0.4082482904638631}\n",
      "Len rows is  2\n",
      "{'$good$': 0.7071067811865475, '$mood$': 0.7071067811865475}\n",
      "{'$would$': 0.31622776601683794, '$take$': 0.31622776601683794, '$sloth$': 0.31622776601683794, '$one$': 0.6324555320336759, '$month$': 0.31622776601683794, '$travel$': 0.31622776601683794, '$mile$': 0.31622776601683794}\n",
      "Len rows is  2\n",
      "{'$good$': 0.7071067811865475, '$mood$': 0.7071067811865475}\n",
      "{'$world$': 0.5, '$popul$': 0.5, '$left$': 0.5, '$hand$': 0.5}\n",
      "Len rows is  2\n",
      "{'$good$': 0.7071067811865475, '$mood$': 0.7071067811865475}\n",
      "{'$broken$': 0.3779644730092272, '$clock$': 0.3779644730092272, '$right$': 0.3779644730092272, '$two$': 0.3779644730092272, '$time$': 0.3779644730092272, '$everi$': 0.3779644730092272, '$day$': 0.3779644730092272}\n",
      "Len rows is  2\n",
      "{'$good$': 0.7071067811865475, '$mood$': 0.7071067811865475}\n",
      "{'$accord$': 0.30151134457776363, '$amazon$': 0.30151134457776363, '$highlight$': 0.30151134457776363, '$book$': 0.30151134457776363, '$kindl$': 0.30151134457776363, '$bibl$': 0.30151134457776363, '$steve$': 0.30151134457776363, '$job$': 0.30151134457776363, '$biographi$': 0.30151134457776363, '$hunger$': 0.30151134457776363, '$game$': 0.30151134457776363}\n",
      "Len rows is  2\n",
      "{'$good$': 0.7071067811865475, '$mood$': 0.7071067811865475}\n",
      "{'$bob$': 0.30151134457776363, '$marley$': 0.30151134457776363, '$last$': 0.30151134457776363, '$word$': 0.30151134457776363, '$son$': 0.30151134457776363, '$befor$': 0.30151134457776363, '$die$': 0.30151134457776363, '$money$': 0.30151134457776363, '$cant$': 0.30151134457776363, '$buy$': 0.30151134457776363, '$life$': 0.30151134457776363}\n",
      "Len rows is  2\n",
      "{'$good$': 0.7071067811865475, '$mood$': 0.7071067811865475}\n",
      "{'$mole$': 0.35355339059327373, '$dig$': 0.35355339059327373, '$tunnel$': 0.35355339059327373, '$foot$': 0.35355339059327373, '$long$': 0.35355339059327373, '$onli$': 0.35355339059327373, '$one$': 0.35355339059327373, '$night$': 0.35355339059327373}\n",
      "Len rows is  2\n",
      "{'$good$': 0.7071067811865475, '$mood$': 0.7071067811865475}\n",
      "{'$hippo$': 0.3333333333333333, '$wide$': 0.3333333333333333, '$open$': 0.3333333333333333, '$mouth$': 0.3333333333333333, '$big$': 0.3333333333333333, '$enough$': 0.3333333333333333, '$fit$': 0.3333333333333333, '$foottal$': 0.3333333333333333, '$child$': 0.3333333333333333}\n",
      "Len rows is  2\n",
      "{'$good$': 0.7071067811865475, '$mood$': 0.7071067811865475}\n",
      "{'$chew$': 0.3779644730092272, '$gum$': 0.3779644730092272, '$cut$': 0.3779644730092272, '$onion$': 0.3779644730092272, '$help$': 0.3779644730092272, '$keep$': 0.3779644730092272, '$cri$': 0.3779644730092272}\n",
      "Len rows is  2\n",
      "{'$good$': 0.7071067811865475, '$mood$': 0.7071067811865475}\n",
      "{'$stretch$': 0.3779644730092272, '$slinki$': 0.3779644730092272, '$flat$': 0.3779644730092272, '$would$': 0.3779644730092272, '$measur$': 0.3779644730092272, '$foot$': 0.3779644730092272, '$long$': 0.3779644730092272}\n",
      "Len rows is  2\n",
      "{'$good$': 0.7071067811865475, '$mood$': 0.7071067811865475}\n",
      "{'$al$': 0.3333333333333333, '$capon$': 0.3333333333333333, '$busi$': 0.3333333333333333, '$card$': 0.3333333333333333, '$said$': 0.3333333333333333, '$wa$': 0.3333333333333333, '$use$': 0.3333333333333333, '$furnitur$': 0.3333333333333333, '$dealer$': 0.3333333333333333}\n",
      "Len rows is  2\n",
      "{'$good$': 0.7071067811865475, '$mood$': 0.7071067811865475}\n",
      "{'$collect$': 0.3333333333333333, '$call$': 0.3333333333333333, '$father$': 0.3333333333333333, '$day$': 0.6666666666666666, '$ani$': 0.3333333333333333, '$year$': 0.3333333333333333}\n",
      "Len rows is  2\n",
      "{'$good$': 0.7071067811865475, '$mood$': 0.7071067811865475}\n",
      "{'$bang$': 0.4082482904638631, '$head$': 0.4082482904638631, '$wall$': 0.4082482904638631, '$burn$': 0.4082482904638631, '$calori$': 0.4082482904638631, '$hour$': 0.4082482904638631}\n",
      "Len rows is  2\n",
      "{'$good$': 0.7071067811865475, '$mood$': 0.7071067811865475}\n",
      "{'$peopl$': 0.3779644730092272, '$text$': 0.3779644730092272, '$thing$': 0.3779644730092272, '$could$': 0.3779644730092272, '$never$': 0.3779644730092272, '$say$': 0.3779644730092272, '$person$': 0.3779644730092272}\n",
      "Len rows is  2\n",
      "{'$good$': 0.7071067811865475, '$mood$': 0.7071067811865475}\n",
      "{'$crocodil$': 0.5, '$cant$': 0.5, '$poke$': 0.5, '$tongu$': 0.5}\n",
      "Len rows is  2\n",
      "{'$good$': 0.7071067811865475, '$mood$': 0.7071067811865475}\n",
      "{'$physic$': 0.4472135954999579, '$imposs$': 0.4472135954999579, '$pig$': 0.4472135954999579, '$look$': 0.4472135954999579, '$sky$': 0.4472135954999579}\n",
      "Len rows is  2\n",
      "{'$good$': 0.7071067811865475, '$mood$': 0.7071067811865475}\n",
      "{'$guin$': 0.2672612419124244, '$book$': 0.5345224838248488, '$record$': 0.5345224838248488, '$hold$': 0.2672612419124244, '$often$': 0.2672612419124244, '$stolen$': 0.2672612419124244, '$public$': 0.2672612419124244, '$librari$': 0.2672612419124244}\n",
      "Len rows is  2\n",
      "{'$good$': 0.7071067811865475, '$mood$': 0.7071067811865475}\n",
      "{'$dri$': 0.4082482904638631, '$fruit$': 0.4082482904638631, '$deplet$': 0.4082482904638631, '$vitamin$': 0.4082482904638631, '$antioxid$': 0.4082482904638631, '$content$': 0.4082482904638631}\n",
      "Len rows is  2\n",
      "{'$good$': 0.7071067811865475, '$mood$': 0.7071067811865475}\n",
      "{'$studi$': 0.2886751345948129, '$found$': 0.2886751345948129, '$soda$': 0.2886751345948129, '$fountain$': 0.2886751345948129, '$contain$': 0.5773502691896258, '$fecal$': 0.2886751345948129, '$bacteria$': 0.2886751345948129, '$e$': 0.2886751345948129, '$coli$': 0.2886751345948129}\n",
      "Len rows is  2\n",
      "{'$good$': 0.7071067811865475, '$mood$': 0.7071067811865475}\n",
      "{'$american$': 0.5773502691896258, '$defici$': 0.5773502691896258, '$potassium$': 0.5773502691896258}\n",
      "Len rows is  2\n",
      "{'$good$': 0.7071067811865475, '$mood$': 0.7071067811865475}\n",
      "{'$blueberri$': 0.5773502691896258, '$ripen$': 0.5773502691896258, '$pick$': 0.5773502691896258}\n",
      "Len rows is  2\n",
      "{'$good$': 0.7071067811865475, '$mood$': 0.7071067811865475}\n",
      "{'$peopl$': 0.4472135954999579, '$per$': 0.4472135954999579, '$year$': 0.4472135954999579, '$kill$': 0.4472135954999579, '$coconut$': 0.4472135954999579}\n",
      "Len rows is  2\n",
      "{'$good$': 0.7071067811865475, '$mood$': 0.7071067811865475}\n",
      "{'$ketchup$': 0.4472135954999579, '$wa$': 0.4472135954999579, '$use$': 0.4472135954999579, '$medicin$': 0.4472135954999579, '$back$': 0.4472135954999579}\n",
      "Len rows is  2\n",
      "{'$good$': 0.7071067811865475, '$mood$': 0.7071067811865475}\n",
      "{'$honey$': 0.5773502691896258, '$never$': 0.5773502691896258, '$spoil$': 0.5773502691896258}\n",
      "Len rows is  2\n",
      "{'$good$': 0.7071067811865475, '$mood$': 0.7071067811865475}\n",
      "{'$half$': 0.4082482904638631, '$american$': 0.4082482904638631, '$diet$': 0.4082482904638631, '$ani$': 0.4082482904638631, '$given$': 0.4082482904638631, '$day$': 0.4082482904638631}\n",
      "Len rows is  2\n",
      "{'$good$': 0.7071067811865475, '$mood$': 0.7071067811865475}\n",
      "{'$hardboil$': 0.3779644730092272, '$egg$': 0.7559289460184544, '$spin$': 0.3779644730092272, '$softboil$': 0.3779644730092272}\n",
      "Len rows is  2\n",
      "{'$good$': 0.7071067811865475, '$mood$': 0.7071067811865475}\n",
      "{'$avocado$': 0.5773502691896258, '$poison$': 0.5773502691896258, '$bird$': 0.5773502691896258}\n",
      "Len rows is  2\n",
      "{'$good$': 0.7071067811865475, '$mood$': 0.7071067811865475}\n",
      "{'$chew$': 0.4082482904638631, '$gum$': 0.4082482904638631, '$burn$': 0.4082482904638631, '$calori$': 0.4082482904638631, '$per$': 0.4082482904638631, '$hour$': 0.4082482904638631}\n",
      "Len rows is  2\n",
      "{'$good$': 0.7071067811865475, '$mood$': 0.7071067811865475}\n",
      "{'$number$': 0.3779644730092272, '$anim$': 0.3779644730092272, '$kill$': 0.3779644730092272, '$meat$': 0.3779644730092272, '$everi$': 0.3779644730092272, '$hour$': 0.3779644730092272, '$u$': 0.3779644730092272}\n",
      "Len rows is  2\n",
      "{'$good$': 0.7071067811865475, '$mood$': 0.7071067811865475}\n",
      "{'$tri$': 0.3333333333333333, '$suppress$': 0.3333333333333333, '$sneez$': 0.3333333333333333, '$ruptur$': 0.3333333333333333, '$blood$': 0.3333333333333333, '$vessel$': 0.3333333333333333, '$head$': 0.3333333333333333, '$neck$': 0.3333333333333333, '$die$': 0.3333333333333333}\n",
      "Len rows is  2\n",
      "{'$good$': 0.7071067811865475, '$mood$': 0.7071067811865475}\n",
      "{'$celeri$': 0.6255432421712244, '$ha$': 0.41702882811414954, '$negat$': 0.20851441405707477, '$calori$': 0.41702882811414954, '$take$': 0.20851441405707477, '$eat$': 0.20851441405707477, '$piec$': 0.20851441405707477, '$begin$': 0.20851441405707477, '$appl$': 0.20851441405707477}\n",
      "Len rows is  2\n",
      "{'$good$': 0.7071067811865475, '$mood$': 0.7071067811865475}\n",
      "{'$peopl$': 0.4082482904638631, '$allerg$': 0.4082482904638631, '$cow$': 0.4082482904638631, '$milk$': 0.4082482904638631, '$ani$': 0.4082482904638631, '$food$': 0.4082482904638631}\n",
      "Len rows is  2\n",
      "{'$good$': 0.7071067811865475, '$mood$': 0.7071067811865475}\n",
      "{'$onli$': 0.25, '$dieter$': 0.25, '$follow$': 0.25, '$restrict$': 0.25, '$weight$': 0.25, '$loss$': 0.25, '$plan$': 0.25, '$hcg$': 0.25, '$drop$': 0.25, '$diet$': 0.5, '$garcinia$': 0.25, '$cambogia$': 0.25, '$etc$': 0.25}\n",
      "Len rows is  2\n",
      "{'$good$': 0.7071067811865475, '$mood$': 0.7071067811865475}\n",
      "{'$coconut$': 0.4472135954999579, '$water$': 0.4472135954999579, '$use$': 0.4472135954999579, '$blood$': 0.4472135954999579, '$plasma$': 0.4472135954999579}\n",
      "Len rows is  2\n",
      "{'$good$': 0.7071067811865475, '$mood$': 0.7071067811865475}\n",
      "{'$word$': 0.6030226891555273, '$gorilla$': 0.30151134457776363, '$deriv$': 0.30151134457776363, '$greek$': 0.30151134457776363, '$mean$': 0.30151134457776363, '$tribe$': 0.30151134457776363, '$hairi$': 0.30151134457776363, '$woman$': 0.30151134457776363}\n",
      "Len rows is  2\n",
      "{'$good$': 0.7071067811865475, '$mood$': 0.7071067811865475}\n",
      "{'$prison$': 0.25, '$canadian$': 0.25, '$war$': 0.5, '$camp$': 0.25, '$dure$': 0.25, '$wwii$': 0.25, '$treat$': 0.25, '$well$': 0.25, '$lot$': 0.25, '$didnt$': 0.25, '$want$': 0.25, '$leav$': 0.25, '$wa$': 0.25}\n",
      "Len rows is  2\n",
      "{'$good$': 0.7071067811865475, '$mood$': 0.7071067811865475}\n",
      "{'$gorilla$': 0.5773502691896258, '$burp$': 0.5773502691896258, '$happi$': 0.5773502691896258}\n",
      "Len rows is  2\n",
      "{'$good$': 0.7071067811865475, '$mood$': 0.7071067811865475}\n",
      "{'$new$': 0.3333333333333333, '$york$': 0.3333333333333333, '$illeg$': 0.3333333333333333, '$sell$': 0.3333333333333333, '$haunt$': 0.3333333333333333, '$hous$': 0.3333333333333333, '$without$': 0.3333333333333333, '$tell$': 0.3333333333333333, '$buyer$': 0.3333333333333333}\n",
      "Len rows is  2\n",
      "{'$good$': 0.7071067811865475, '$mood$': 0.7071067811865475}\n",
      "{'$someon$': 0.2773500981126146, '$tri$': 0.2773500981126146, '$sell$': 0.2773500981126146, '$new$': 0.2773500981126146, '$zealand$': 0.2773500981126146, '$ebay$': 0.5547001962252291, '$price$': 0.2773500981126146, '$got$': 0.2773500981126146, '$befor$': 0.2773500981126146, '$shut$': 0.2773500981126146}\n",
      "Len rows is  2\n",
      "{'$good$': 0.7071067811865475, '$mood$': 0.7071067811865475}\n",
      "{'$consid$': 0.3333333333333333, '$good$': 0.3333333333333333, '$luck$': 0.3333333333333333, '$japan$': 0.3333333333333333, '$sumo$': 0.3333333333333333, '$wrestler$': 0.3333333333333333, '$make$': 0.3333333333333333, '$babi$': 0.3333333333333333, '$cri$': 0.3333333333333333}\n",
      "Len rows is  2\n",
      "{'$good$': 0.7071067811865475, '$mood$': 0.7071067811865475}\n",
      "{'$man$': 0.31622776601683794, '$britain$': 0.31622776601683794, '$chang$': 0.31622776601683794, '$name$': 0.31622776601683794, '$tim$': 0.31622776601683794, '$pppppppppprice$': 0.31622776601683794, '$make$': 0.31622776601683794, '$harder$': 0.31622776601683794, '$telemarket$': 0.31622776601683794, '$pronounc$': 0.31622776601683794}\n",
      "Len rows is  2\n",
      "{'$good$': 0.7071067811865475, '$mood$': 0.7071067811865475}\n",
      "{'$woman$': 0.22941573387056174, '$california$': 0.22941573387056174, '$onc$': 0.22941573387056174, '$tri$': 0.22941573387056174, '$sue$': 0.22941573387056174, '$maker$': 0.22941573387056174, '$capn$': 0.22941573387056174, '$crunch$': 0.4588314677411235, '$becaus$': 0.22941573387056174, '$berri$': 0.4588314677411235, '$contain$': 0.22941573387056174, '$ani$': 0.22941573387056174, '$kind$': 0.22941573387056174}\n",
      "Len rows is  2\n",
      "{'$good$': 0.7071067811865475, '$mood$': 0.7071067811865475}\n",
      "{'$appl$': 0.35355339059327373, '$launch$': 0.35355339059327373, '$cloth$': 0.35355339059327373, '$line$': 0.35355339059327373, '$wa$': 0.35355339059327373, '$describ$': 0.35355339059327373, '$train$': 0.35355339059327373, '$wreck$': 0.35355339059327373}\n",
      "Len rows is  2\n",
      "{'$good$': 0.7071067811865475, '$mood$': 0.7071067811865475}\n",
      "{'$japan$': 0.4082482904638631, '$crook$': 0.4082482904638631, '$teeth$': 0.4082482904638631, '$consid$': 0.4082482904638631, '$cute$': 0.4082482904638631, '$attract$': 0.4082482904638631}\n",
      "Len rows is  2\n",
      "{'$good$': 0.7071067811865475, '$mood$': 0.7071067811865475}\n",
      "{'$swedish$': 0.30151134457776363, '$woman$': 0.30151134457776363, '$lost$': 0.30151134457776363, '$wed$': 0.30151134457776363, '$ring$': 0.30151134457776363, '$found$': 0.30151134457776363, '$year$': 0.30151134457776363, '$later$': 0.30151134457776363, '$grow$': 0.30151134457776363, '$carrot$': 0.30151134457776363, '$garden$': 0.30151134457776363}\n",
      "Len rows is  2\n",
      "{'$good$': 0.7071067811865475, '$mood$': 0.7071067811865475}\n",
      "{'$donald$': 0.3333333333333333, '$duck$': 0.3333333333333333, '$comic$': 0.3333333333333333, '$ban$': 0.3333333333333333, '$finland$': 0.3333333333333333, '$becaus$': 0.3333333333333333, '$doesnt$': 0.3333333333333333, '$wear$': 0.3333333333333333, '$pant$': 0.3333333333333333}\n",
      "Len rows is  2\n",
      "{'$good$': 0.7071067811865475, '$mood$': 0.7071067811865475}\n",
      "{'$chanc$': 0.5773502691896258, '$die$': 0.2886751345948129, '$way$': 0.2886751345948129, '$get$': 0.2886751345948129, '$lotteri$': 0.2886751345948129, '$ticket$': 0.2886751345948129, '$actual$': 0.2886751345948129, '$greater$': 0.2886751345948129, '$win$': 0.2886751345948129}\n",
      "Len rows is  2\n",
      "{'$good$': 0.7071067811865475, '$mood$': 0.7071067811865475}\n",
      "{'$cherophobia$': 0.5773502691896258, '$fear$': 0.5773502691896258, '$fun$': 0.5773502691896258}\n",
      "Len rows is  2\n",
      "{'$good$': 0.7071067811865475, '$mood$': 0.7071067811865475}\n",
      "{'$toothpast$': 0.4082482904638631, '$colgat$': 0.4082482904638631, '$spanish$': 0.4082482904638631, '$translat$': 0.4082482904638631, '$go$': 0.4082482904638631, '$hang$': 0.4082482904638631}\n",
      "Len rows is  2\n",
      "{'$good$': 0.7071067811865475, '$mood$': 0.7071067811865475}\n",
      "{'$pirat$': 0.3779644730092272, '$wore$': 0.3779644730092272, '$earring$': 0.3779644730092272, '$becaus$': 0.3779644730092272, '$believ$': 0.3779644730092272, '$improv$': 0.3779644730092272, '$eyesight$': 0.3779644730092272}\n",
      "Len rows is  2\n",
      "{'$good$': 0.7071067811865475, '$mood$': 0.7071067811865475}\n",
      "{'$human$': 0.4472135954999579, '$thigh$': 0.4472135954999579, '$bone$': 0.4472135954999579, '$stronger$': 0.4472135954999579, '$concret$': 0.4472135954999579}\n",
      "Len rows is  2\n",
      "{'$good$': 0.7071067811865475, '$mood$': 0.7071067811865475}\n",
      "{'$cockroach$': 0.25, '$live$': 0.25, '$sever$': 0.25, '$week$': 0.25, '$head$': 0.25, '$cut$': 0.25, '$becaus$': 0.25, '$brain$': 0.25, '$locat$': 0.25, '$insid$': 0.25, '$bodi$': 0.25, '$would$': 0.25, '$eventu$': 0.25, '$die$': 0.25, '$unabl$': 0.25, '$eat$': 0.25}\n",
      "Len rows is  2\n",
      "{'$good$': 0.7071067811865475, '$mood$': 0.7071067811865475}\n",
      "{'$scientist$': 0.4472135954999579, '$track$': 0.4472135954999579, '$butterfli$': 0.4472135954999579, '$travel$': 0.4472135954999579, '$mile$': 0.4472135954999579}\n",
      "Len rows is  2\n",
      "{'$good$': 0.7071067811865475, '$mood$': 0.7071067811865475}\n",
      "{'$produc$': 0.2886751345948129, '$singl$': 0.5773502691896258, '$pound$': 0.2886751345948129, '$honey$': 0.2886751345948129, '$bee$': 0.2886751345948129, '$would$': 0.2886751345948129, '$visit$': 0.2886751345948129, '$million$': 0.2886751345948129, '$flower$': 0.2886751345948129}\n",
      "Len rows is  2\n",
      "{'$good$': 0.7071067811865475, '$mood$': 0.7071067811865475}\n",
      "{'$popul$': 0.4472135954999579, '$expect$': 0.4472135954999579, '$rise$': 0.4472135954999579, '$billion$': 0.4472135954999579, '$year$': 0.4472135954999579}\n",
      "Len rows is  2\n",
      "{'$good$': 0.7071067811865475, '$mood$': 0.7071067811865475}\n",
      "{'$breath$': 0.5, '$averag$': 0.5, '$time$': 0.5, '$year$': 0.5}\n",
      "Len rows is  2\n",
      "{'$good$': 0.7071067811865475, '$mood$': 0.7071067811865475}\n",
      "{'$peopl$': 0.4082482904638631, '$fli$': 0.4082482904638631, '$unit$': 0.4082482904638631, '$state$': 0.4082482904638631, '$airplan$': 0.4082482904638631, '$right$': 0.4082482904638631}\n",
      "Len rows is  2\n",
      "{'$good$': 0.7071067811865475, '$mood$': 0.7071067811865475}\n",
      "{'$hamster$': 0.4472135954999579, '$run$': 0.4472135954999579, '$mile$': 0.4472135954999579, '$night$': 0.4472135954999579, '$wheel$': 0.4472135954999579}\n",
      "Len rows is  2\n",
      "{'$good$': 0.7071067811865475, '$mood$': 0.7071067811865475}\n",
      "{'$waterfal$': 0.4472135954999579, '$hawaii$': 0.4472135954999579, '$go$': 0.4472135954999579, '$sometim$': 0.4472135954999579, '$instead$': 0.4472135954999579}\n",
      "Len rows is  2\n",
      "{'$good$': 0.7071067811865475, '$mood$': 0.7071067811865475}\n",
      "{'$church$': 0.3333333333333333, '$czech$': 0.3333333333333333, '$republ$': 0.3333333333333333, '$ha$': 0.3333333333333333, '$chandeli$': 0.3333333333333333, '$made$': 0.3333333333333333, '$entir$': 0.3333333333333333, '$human$': 0.3333333333333333, '$bone$': 0.3333333333333333}\n",
      "Len rows is  2\n",
      "{'$good$': 0.7071067811865475, '$mood$': 0.7071067811865475}\n",
      "{'$code$': 0.3779644730092272, '$hammurabi$': 0.3779644730092272, '$bartend$': 0.3779644730092272, '$water$': 0.3779644730092272, '$beer$': 0.3779644730092272, '$punish$': 0.3779644730092272, '$execut$': 0.3779644730092272}\n",
      "Len rows is  2\n",
      "{'$good$': 0.7071067811865475, '$mood$': 0.7071067811865475}\n",
      "{'$eye$': 0.3333333333333333, '$alway$': 0.3333333333333333, '$size$': 0.3333333333333333, '$birth$': 0.3333333333333333, '$nose$': 0.3333333333333333, '$ear$': 0.3333333333333333, '$never$': 0.3333333333333333, '$stop$': 0.3333333333333333, '$grow$': 0.3333333333333333}\n",
      "Len rows is  2\n",
      "{'$good$': 0.7071067811865475, '$mood$': 0.7071067811865475}\n",
      "{'$dure$': 0.3333333333333333, '$lifetim$': 0.3333333333333333, '$produc$': 0.3333333333333333, '$enough$': 0.3333333333333333, '$saliva$': 0.3333333333333333, '$fill$': 0.3333333333333333, '$two$': 0.3333333333333333, '$swim$': 0.3333333333333333, '$pool$': 0.3333333333333333}\n",
      "Len rows is  2\n",
      "{'$good$': 0.7071067811865475, '$mood$': 0.7071067811865475}\n",
      "{'$shorter$': 0.5773502691896258, '$even$': 0.5773502691896258, '$morn$': 0.5773502691896258}\n",
      "Len rows is  2\n",
      "{'$good$': 0.7071067811865475, '$mood$': 0.7071067811865475}\n",
      "{'$eleph$': 0.4472135954999579, '$onli$': 0.4472135954999579, '$mammal$': 0.4472135954999579, '$cant$': 0.4472135954999579, '$jump$': 0.4472135954999579}\n",
      "Len rows is  2\n",
      "{'$good$': 0.7071067811865475, '$mood$': 0.7071067811865475}\n",
      "{'$dust$': 0.4082482904638631, '$particl$': 0.4082482904638631, '$hous$': 0.4082482904638631, '$made$': 0.4082482904638631, '$dead$': 0.4082482904638631, '$skin$': 0.4082482904638631}\n",
      "Len rows is  2\n",
      "{'$good$': 0.7071067811865475, '$mood$': 0.7071067811865475}\n",
      "{'$million$': 0.3333333333333333, '$peopl$': 0.3333333333333333, '$held$': 0.3333333333333333, '$hand$': 0.3333333333333333, '$could$': 0.3333333333333333, '$make$': 0.3333333333333333, '$way$': 0.3333333333333333, '$around$': 0.3333333333333333, '$equat$': 0.3333333333333333}\n",
      "Len rows is  2\n",
      "{'$good$': 0.7071067811865475, '$mood$': 0.7071067811865475}\n",
      "{'$earth$': 0.4472135954999579, '$onli$': 0.4472135954999579, '$planet$': 0.4472135954999579, '$name$': 0.4472135954999579, '$god$': 0.4472135954999579}\n",
      "Len rows is  2\n",
      "{'$good$': 0.7071067811865475, '$mood$': 0.7071067811865475}\n",
      "{'$bloodhound$': 0.3779644730092272, '$onli$': 0.3779644730092272, '$anim$': 0.3779644730092272, '$whose$': 0.3779644730092272, '$evid$': 0.3779644730092272, '$admiss$': 0.3779644730092272, '$court$': 0.3779644730092272}\n",
      "Len rows is  2\n",
      "{'$good$': 0.7071067811865475, '$mood$': 0.7071067811865475}\n",
      "{'$born$': 0.4472135954999579, '$bone$': 0.4472135954999579, '$time$': 0.4472135954999579, '$adult$': 0.4472135954999579, '$onli$': 0.4472135954999579}\n",
      "Len rows is  2\n",
      "{'$good$': 0.7071067811865475, '$mood$': 0.7071067811865475}\n",
      "{'$tengallon$': 0.4472135954999579, '$hat$': 0.4472135954999579, '$onli$': 0.4472135954999579, '$hold$': 0.4472135954999579, '$gallon$': 0.4472135954999579}\n",
      "Len rows is  2\n",
      "{'$good$': 0.7071067811865475, '$mood$': 0.7071067811865475}\n",
      "{'$like$': 0.3779644730092272, '$fingerprint$': 0.3779644730092272, '$everyon$': 0.3779644730092272, '$ha$': 0.3779644730092272, '$differ$': 0.3779644730092272, '$tongu$': 0.3779644730092272, '$print$': 0.3779644730092272}\n",
      "Len rows is  2\n",
      "{'$good$': 0.7071067811865475, '$mood$': 0.7071067811865475}\n",
      "{'$atm$': 0.24253562503633297, '$origin$': 0.24253562503633297, '$thought$': 0.24253562503633297, '$failur$': 0.24253562503633297, '$becaus$': 0.24253562503633297, '$onli$': 0.24253562503633297, '$user$': 0.24253562503633297, '$prostitut$': 0.24253562503633297, '$gambler$': 0.24253562503633297, '$didnt$': 0.24253562503633297, '$want$': 0.24253562503633297, '$deal$': 0.24253562503633297, '$teller$': 0.24253562503633297, '$face$': 0.48507125007266594}\n",
      "Len rows is  2\n",
      "{'$good$': 0.7071067811865475, '$mood$': 0.7071067811865475}\n",
      "{'$word$': 0.7071067811865476, '$english$': 0.23570226039551587, '$languag$': 0.23570226039551587, '$set$': 0.23570226039551587, '$ha$': 0.23570226039551587, '$definit$': 0.23570226039551587, '$run$': 0.23570226039551587, '$come$': 0.23570226039551587, '$close$': 0.23570226039551587, '$second$': 0.23570226039551587}\n",
      "Len rows is  2\n",
      "{'$good$': 0.7071067811865475, '$mood$': 0.7071067811865475}\n",
      "{'$jiffi$': 0.4472135954999579, '$scientif$': 0.4472135954999579, '$name$': 0.4472135954999579, '$th$': 0.4472135954999579, '$second$': 0.4472135954999579}\n",
      "Len rows is  2\n",
      "{'$good$': 0.7071067811865475, '$mood$': 0.7071067811865475}\n",
      "{'$one$': 0.4082482904638631, '$fourth$': 0.4082482904638631, '$bone$': 0.4082482904638631, '$bodi$': 0.4082482904638631, '$locat$': 0.4082482904638631, '$foot$': 0.4082482904638631}\n",
      "Len rows is  2\n",
      "{'$good$': 0.7071067811865475, '$mood$': 0.7071067811865475}\n",
      "{'$x$': 1}\n",
      "Len rows is  2\n",
      "{'$good$': 0.7071067811865475, '$mood$': 0.7071067811865475}\n",
      "{'$blueey$': 0.4082482904638631, '$peopl$': 0.4082482904638631, '$tend$': 0.4082482904638631, '$highest$': 0.4082482904638631, '$toler$': 0.4082482904638631, '$alcohol$': 0.4082482904638631}\n",
      "Len rows is  2\n",
      "{'$good$': 0.7071067811865475, '$mood$': 0.7071067811865475}\n",
      "{'$traffic$': 0.30151134457776363, '$jam$': 0.30151134457776363, '$last$': 0.30151134457776363, '$day$': 0.6030226891555273, '$car$': 0.30151134457776363, '$onli$': 0.30151134457776363, '$move$': 0.30151134457776363, '$mile$': 0.30151134457776363}\n",
      "Len rows is  2\n",
      "{'$good$': 0.7071067811865475, '$mood$': 0.7071067811865475}\n",
      "{'$tongu$': 0.5, '$strongest$': 0.5, '$muscl$': 0.5, '$bodi$': 0.5}\n",
      "Len rows is  2\n",
      "{'$good$': 0.7071067811865475, '$mood$': 0.7071067811865475}\n",
      "{'$everi$': 0.35355339059327373, '$year$': 0.35355339059327373, '$lefthand$': 0.35355339059327373, '$peopl$': 0.35355339059327373, '$kill$': 0.35355339059327373, '$use$': 0.35355339059327373, '$righthand$': 0.35355339059327373, '$product$': 0.35355339059327373}\n",
      "Len rows is  2\n",
      "{'$good$': 0.7071067811865475, '$mood$': 0.7071067811865475}\n",
      "{'$peopl$': 0.3779644730092272, '$world$': 0.3779644730092272, '$never$': 0.3779644730092272, '$made$': 0.3779644730092272, '$receiv$': 0.3779644730092272, '$telephon$': 0.3779644730092272, '$call$': 0.3779644730092272}\n",
      "Len rows is  2\n",
      "{'$good$': 0.7071067811865475, '$mood$': 0.7071067811865475}\n",
      "{'$cigarett$': 0.4082482904638631, '$lighter$': 0.4082482904638631, '$wa$': 0.4082482904638631, '$invent$': 0.4082482904638631, '$befor$': 0.4082482904638631, '$match$': 0.4082482904638631}\n",
      "Len rows is  2\n",
      "{'$good$': 0.7071067811865475, '$mood$': 0.7071067811865475}\n",
      "{'$sea$': 0.3779644730092272, '$otter$': 0.3779644730092272, '$hold$': 0.3779644730092272, '$hand$': 0.3779644730092272, '$sleep$': 0.3779644730092272, '$drift$': 0.3779644730092272, '$apart$': 0.3779644730092272}\n",
      "Len rows is  2\n",
      "{'$good$': 0.7071067811865475, '$mood$': 0.7071067811865475}\n",
      "{'$golden$': 0.31622776601683794, '$poison$': 0.31622776601683794, '$dart$': 0.31622776601683794, '$frog$': 0.31622776601683794, '$skin$': 0.31622776601683794, '$ha$': 0.31622776601683794, '$enough$': 0.31622776601683794, '$toxin$': 0.31622776601683794, '$kill$': 0.31622776601683794, '$peopl$': 0.31622776601683794}\n",
      "Len rows is  2\n",
      "{'$good$': 0.7071067811865475, '$mood$': 0.7071067811865475}\n",
      "{'$male$': 0.4472135954999579, '$ostrich$': 0.4472135954999579, '$roar$': 0.4472135954999579, '$like$': 0.4472135954999579, '$lion$': 0.4472135954999579}\n",
      "Len rows is  2\n",
      "{'$good$': 0.7071067811865475, '$mood$': 0.7071067811865475}\n",
      "{'$mountain$': 0.5773502691896258, '$lion$': 0.5773502691896258, '$whistl$': 0.5773502691896258}\n",
      "Len rows is  2\n",
      "{'$good$': 0.7071067811865475, '$mood$': 0.7071067811865475}\n",
      "{'$giraff$': 0.4082482904638631, '$tongu$': 0.4082482904638631, '$long$': 0.4082482904638631, '$lick$': 0.4082482904638631, '$insid$': 0.4082482904638631, '$ear$': 0.4082482904638631}\n",
      "Len rows is  2\n",
      "{'$good$': 0.7071067811865475, '$mood$': 0.7071067811865475}\n",
      "{'$cow$': 0.5, '$kill$': 0.5, '$peopl$': 0.5, '$shark$': 0.5}\n",
      "Len rows is  2\n",
      "{'$good$': 0.7071067811865475, '$mood$': 0.7071067811865475}\n",
      "{'$cat$': 0.5773502691896258, '$muscl$': 0.5773502691896258, '$ear$': 0.5773502691896258}\n",
      "Len rows is  2\n",
      "{'$good$': 0.7071067811865475, '$mood$': 0.7071067811865475}\n",
      "{'$butterfli$': 0.5, '$tast$': 0.5, '$food$': 0.5, '$foot$': 0.5}\n",
      "Len rows is  2\n",
      "{'$good$': 0.7071067811865475, '$mood$': 0.7071067811865475}\n",
      "{'$tarantula$': 0.4082482904638631, '$live$': 0.4082482904638631, '$without$': 0.4082482904638631, '$food$': 0.4082482904638631, '$two$': 0.4082482904638631, '$year$': 0.4082482904638631}\n",
      "Len rows is  2\n",
      "{'$good$': 0.7071067811865475, '$mood$': 0.7071067811865475}\n",
      "{'$tongu$': 0.4472135954999579, '$blue$': 0.4472135954999579, '$whale$': 0.4472135954999579, '$weigh$': 0.4472135954999579, '$eleph$': 0.4472135954999579}\n",
      "Len rows is  2\n",
      "{'$good$': 0.7071067811865475, '$mood$': 0.7071067811865475}\n",
      "{'$ever$': 0.16012815380508713, '$wonder$': 0.16012815380508713, '$phrase$': 0.16012815380508713, '$rain$': 0.32025630761017426, '$cat$': 0.48038446141526137, '$dog$': 0.48038446141526137, '$come$': 0.16012815380508713, '$th$': 0.16012815380508713, '$centuri$': 0.16012815380508713, '$mani$': 0.16012815380508713, '$homeless$': 0.16012815380508713, '$would$': 0.16012815380508713, '$drown$': 0.16012815380508713, '$float$': 0.16012815380508713, '$street$': 0.16012815380508713, '$england$': 0.16012815380508713, '$make$': 0.16012815380508713, '$look$': 0.16012815380508713, '$like$': 0.16012815380508713, '$liter$': 0.16012815380508713}\n",
      "Len rows is  2\n",
      "{'$good$': 0.7071067811865475, '$mood$': 0.7071067811865475}\n",
      "{'$take$': 0.3333333333333333, '$cow$': 0.3333333333333333, '$suppli$': 0.3333333333333333, '$enough$': 0.3333333333333333, '$leather$': 0.3333333333333333, '$nfl$': 0.3333333333333333, '$onli$': 0.3333333333333333, '$one$': 0.3333333333333333, '$year$': 0.3333333333333333}\n",
      "Len rows is  2\n",
      "{'$good$': 0.7071067811865475, '$mood$': 0.7071067811865475}\n",
      "{'$male$': 0.2672612419124244, '$dog$': 0.2672612419124244, '$lift$': 0.2672612419124244, '$leg$': 0.2672612419124244, '$urin$': 0.2672612419124244, '$reason$': 0.2672612419124244, '$tri$': 0.2672612419124244, '$leav$': 0.2672612419124244, '$mark$': 0.2672612419124244, '$higher$': 0.2672612419124244, '$give$': 0.2672612419124244, '$messag$': 0.2672612419124244, '$tall$': 0.2672612419124244, '$intimid$': 0.2672612419124244}\n",
      "Len rows is  2\n",
      "{'$good$': 0.7071067811865475, '$mood$': 0.7071067811865475}\n",
      "{'$hummingbird$': 0.5, '$weigh$': 0.5, '$le$': 0.5, '$penni$': 0.5}\n",
      "Len rows is  2\n",
      "{'$good$': 0.7071067811865475, '$mood$': 0.7071067811865475}\n",
      "{'$ostrich$': 0.5, '$eye$': 0.5, '$bigger$': 0.5, '$brain$': 0.5}\n",
      "Len rows is  2\n",
      "{'$good$': 0.7071067811865475, '$mood$': 0.7071067811865475}\n",
      "{'$dog$': 0.31622776601683794, '$capabl$': 0.31622776601683794, '$understand$': 0.31622776601683794, '$word$': 0.31622776601683794, '$gestur$': 0.31622776601683794, '$demonstr$': 0.31622776601683794, '$abil$': 0.31622776601683794, '$simpl$': 0.31622776601683794, '$mathemat$': 0.31622776601683794, '$calcul$': 0.31622776601683794}\n",
      "Len rows is  2\n",
      "{'$good$': 0.7071067811865475, '$mood$': 0.7071067811865475}\n",
      "{'$sheep$': 0.35355339059327373, '$duck$': 0.35355339059327373, '$rooster$': 0.35355339059327373, '$first$': 0.35355339059327373, '$passeng$': 0.35355339059327373, '$hot$': 0.35355339059327373, '$air$': 0.35355339059327373, '$balloon$': 0.35355339059327373}\n",
      "Len rows is  2\n",
      "{'$good$': 0.7071067811865475, '$mood$': 0.7071067811865475}\n",
      "{'$bird$': 0.5773502691896258, '$dont$': 0.5773502691896258, '$urin$': 0.5773502691896258}\n",
      "Len rows is  2\n",
      "{'$good$': 0.7071067811865475, '$mood$': 0.7071067811865475}\n",
      "{'$flea$': 0.2886751345948129, '$jump$': 0.5773502691896258, '$time$': 0.2886751345948129, '$height$': 0.2886751345948129, '$equival$': 0.2886751345948129, '$human$': 0.2886751345948129, '$empir$': 0.2886751345948129, '$state$': 0.2886751345948129, '$build$': 0.2886751345948129}\n",
      "Len rows is  2\n",
      "{'$good$': 0.7071067811865475, '$mood$': 0.7071067811865475}\n",
      "{'$templ$': 0.20851441405707477, '$kyoto$': 0.20851441405707477, '$japan$': 0.20851441405707477, '$blood$': 0.20851441405707477, '$stain$': 0.20851441405707477, '$ceil$': 0.41702882811414954, '$made$': 0.20851441405707477, '$floorboard$': 0.20851441405707477, '$castl$': 0.20851441405707477, '$warrior$': 0.20851441405707477, '$kill$': 0.20851441405707477, '$themselv$': 0.20851441405707477, '$long$': 0.20851441405707477, '$holdoff$': 0.20851441405707477, '$armi$': 0.20851441405707477, '$day$': 0.20851441405707477, '$still$': 0.20851441405707477, '$see$': 0.20851441405707477, '$outlin$': 0.20851441405707477, '$footprint$': 0.20851441405707477}\n",
      "Len rows is  2\n",
      "{'$good$': 0.7071067811865475, '$mood$': 0.7071067811865475}\n",
      "{'$snake$': 0.19611613513818404, '$call$': 0.19611613513818404, '$boomslang$': 0.19611613513818404, '$whose$': 0.19611613513818404, '$venom$': 0.19611613513818404, '$caus$': 0.19611613513818404, '$bleed$': 0.5883484054145521, '$everi$': 0.19611613513818404, '$orific$': 0.19611613513818404, '$bodi$': 0.19611613513818404, '$may$': 0.19611613513818404, '$even$': 0.19611613513818404, '$turn$': 0.19611613513818404, '$blue$': 0.19611613513818404, '$intern$': 0.19611613513818404, '$take$': 0.19611613513818404, '$day$': 0.19611613513818404, '$die$': 0.19611613513818404}\n",
      "Len rows is  2\n",
      "{'$good$': 0.7071067811865475, '$mood$': 0.7071067811865475}\n",
      "{'$ball$': 0.7071067811865475, '$glass$': 0.35355339059327373, '$bounc$': 0.35355339059327373, '$higher$': 0.35355339059327373, '$rubber$': 0.35355339059327373}\n",
      "Len rows is  2\n",
      "{'$good$': 0.7071067811865475, '$mood$': 0.7071067811865475}\n",
      "{'$saturn$': 0.35355339059327373, '$densiti$': 0.35355339059327373, '$low$': 0.35355339059327373, '$enough$': 0.35355339059327373, '$planet$': 0.35355339059327373, '$would$': 0.35355339059327373, '$float$': 0.35355339059327373, '$water$': 0.35355339059327373}\n",
      "Len rows is  2\n",
      "{'$good$': 0.7071067811865475, '$mood$': 0.7071067811865475}\n",
      "{'$univers$': 0.47140452079103173, '$dark$': 0.47140452079103173, '$energi$': 0.23570226039551587, '$matter$': 0.23570226039551587, '$invis$': 0.23570226039551587, '$even$': 0.23570226039551587, '$power$': 0.23570226039551587, '$telescop$': 0.23570226039551587, '$mean$': 0.23570226039551587, '$onli$': 0.23570226039551587, '$seen$': 0.23570226039551587, '$earth$': 0.23570226039551587}\n",
      "Len rows is  2\n",
      "{'$good$': 0.7071067811865475, '$mood$': 0.7071067811865475}\n",
      "{'$founder$': 0.22941573387056174, '$googl$': 0.6882472016116852, '$sell$': 0.22941573387056174, '$million$': 0.22941573387056174, '$excit$': 0.4588314677411235, '$turn$': 0.22941573387056174, '$worth$': 0.22941573387056174, '$billion$': 0.22941573387056174}\n",
      "Len rows is  2\n",
      "{'$good$': 0.7071067811865475, '$mood$': 0.7071067811865475}\n",
      "{'$past$': 0.35355339059327373, '$year$': 0.35355339059327373, '$scientist$': 0.35355339059327373, '$found$': 0.35355339059327373, '$planet$': 0.35355339059327373, '$outsid$': 0.35355339059327373, '$solar$': 0.35355339059327373, '$system$': 0.35355339059327373}\n",
      "Len rows is  2\n",
      "{'$good$': 0.7071067811865475, '$mood$': 0.7071067811865475}\n",
      "{'$mile$': 0.4472135954999579, '$blood$': 0.4472135954999579, '$vessel$': 0.4472135954999579, '$human$': 0.4472135954999579, '$bodi$': 0.4472135954999579}\n",
      "Len rows is  2\n",
      "{'$good$': 0.7071067811865475, '$mood$': 0.7071067811865475}\n",
      "{'$pregnant$': 0.2581988897471611, '$woman$': 0.2581988897471611, '$ha$': 0.2581988897471611, '$organ$': 0.5163977794943222, '$damag$': 0.2581988897471611, '$babi$': 0.2581988897471611, '$womb$': 0.2581988897471611, '$send$': 0.2581988897471611, '$stem$': 0.2581988897471611, '$cell$': 0.2581988897471611, '$help$': 0.2581988897471611, '$repair$': 0.2581988897471611}\n",
      "Len rows is  2\n",
      "{'$good$': 0.7071067811865475, '$mood$': 0.7071067811865475}\n",
      "{'$start$': 0.2886751345948129, '$doubl$': 0.2886751345948129, '$money$': 0.2886751345948129, '$everi$': 0.2886751345948129, '$day$': 0.5773502691896258, '$would$': 0.2886751345948129, '$take$': 0.2886751345948129, '$becom$': 0.2886751345948129, '$millionair$': 0.2886751345948129}\n",
      "Len rows is  2\n",
      "{'$good$': 0.7071067811865475, '$mood$': 0.7071067811865475}\n",
      "{'$onli$': 0.3779644730092272, '$one$': 0.3779644730092272, '$person$': 0.3779644730092272, '$two$': 0.3779644730092272, '$billion$': 0.3779644730092272, '$live$': 0.3779644730092272, '$older$': 0.3779644730092272}\n",
      "Len rows is  2\n",
      "{'$good$': 0.7071067811865475, '$mood$': 0.7071067811865475}\n",
      "{'$person$': 0.19245008972987526, '$live$': 0.19245008972987526, '$without$': 0.3849001794597505, '$food$': 0.19245008972987526, '$month$': 0.19245008972987526, '$onli$': 0.19245008972987526, '$week$': 0.19245008972987526, '$water$': 0.3849001794597505, '$amount$': 0.19245008972987526, '$bodi$': 0.19245008972987526, '$reduc$': 0.3849001794597505, '$youll$': 0.3849001794597505, '$feel$': 0.19245008972987526, '$thirsti$': 0.19245008972987526, '$die$': 0.19245008972987526}\n",
      "Len rows is  2\n",
      "{'$good$': 0.7071067811865475, '$mood$': 0.7071067811865475}\n",
      "{'$averag$': 0.4082482904638631, '$newborn$': 0.4082482904638631, '$given$': 0.4082482904638631, '$wrong$': 0.4082482904638631, '$parent$': 0.4082482904638631, '$daili$': 0.4082482904638631}\n",
      "Len rows is  2\n",
      "{'$good$': 0.7071067811865475, '$mood$': 0.7071067811865475}\n",
      "{'$cant$': 0.5, '$kill$': 0.5, '$hold$': 0.5, '$breath$': 0.5}\n",
      "Len rows is  2\n",
      "{'$good$': 0.7071067811865475, '$mood$': 0.7071067811865475}\n",
      "{'$human$': 0.4082482904638631, '$birth$': 0.4082482904638631, '$control$': 0.4082482904638631, '$pill$': 0.4082482904638631, '$work$': 0.4082482904638631, '$gorilla$': 0.4082482904638631}\n",
      "Len rows is  2\n",
      "{'$good$': 0.7071067811865475, '$mood$': 0.7071067811865475}\n",
      "{'$clock$': 0.4472135954999579, '$la$': 0.4472135954999579, '$vega$': 0.4472135954999579, '$gambl$': 0.4472135954999579, '$casino$': 0.4472135954999579}\n",
      "Len rows is  2\n",
      "{'$good$': 0.7071067811865475, '$mood$': 0.7071067811865475}\n",
      "{'$beetl$': 0.23570226039551587, '$tast$': 0.23570226039551587, '$like$': 0.7071067811865476, '$appl$': 0.23570226039551587, '$wasp$': 0.23570226039551587, '$pine$': 0.23570226039551587, '$nut$': 0.23570226039551587, '$worm$': 0.23570226039551587, '$fri$': 0.23570226039551587, '$bacon$': 0.23570226039551587}\n",
      "Len rows is  2\n",
      "{'$good$': 0.7071067811865475, '$mood$': 0.7071067811865475}\n",
      "{'$call$': 0.30151134457776363, '$french$': 0.30151134457776363, '$kiss$': 0.6030226891555273, '$englishspeak$': 0.30151134457776363, '$world$': 0.30151134457776363, '$known$': 0.30151134457776363, '$english$': 0.30151134457776363, '$franc$': 0.30151134457776363}\n",
      "Len rows is  2\n",
      "{'$good$': 0.7071067811865475, '$mood$': 0.7071067811865475}\n",
      "{'$month$': 0.4082482904638631, '$begin$': 0.4082482904638631, '$sunday$': 0.4082482904638631, '$alway$': 0.4082482904638631, '$friday$': 0.4082482904638631, '$th$': 0.4082482904638631}\n",
      "Len rows is  2\n",
      "{'$good$': 0.7071067811865475, '$mood$': 0.7071067811865475}\n",
      "{'$placement$': 0.3333333333333333, '$donkey$': 0.3333333333333333, '$eye$': 0.3333333333333333, '$head$': 0.3333333333333333, '$enabl$': 0.3333333333333333, '$see$': 0.3333333333333333, '$four$': 0.3333333333333333, '$foot$': 0.3333333333333333, '$time$': 0.3333333333333333}\n",
      "Len rows is  2\n",
      "{'$good$': 0.7071067811865475, '$mood$': 0.7071067811865475}\n",
      "{'$worm$': 0.3779644730092272, '$eat$': 0.3779644730092272, '$themselv$': 0.3779644730092272, '$cant$': 0.3779644730092272, '$find$': 0.3779644730092272, '$ani$': 0.3779644730092272, '$food$': 0.3779644730092272}\n",
      "Len rows is  2\n",
      "{'$good$': 0.7071067811865475, '$mood$': 0.7071067811865475}\n",
      "{'$dolphin$': 0.4472135954999579, '$sleep$': 0.4472135954999579, '$one$': 0.4472135954999579, '$eye$': 0.4472135954999579, '$open$': 0.4472135954999579}\n",
      "Len rows is  2\n",
      "{'$good$': 0.7071067811865475, '$mood$': 0.7071067811865475}\n",
      "{'$imposs$': 0.5, '$sneez$': 0.5, '$eye$': 0.5, '$open$': 0.5}\n",
      "Len rows is  2\n",
      "{'$good$': 0.7071067811865475, '$mood$': 0.7071067811865475}\n",
      "{'$franc$': 0.4472135954999579, '$legal$': 0.4472135954999579, '$marri$': 0.4472135954999579, '$dead$': 0.4472135954999579, '$person$': 0.4472135954999579}\n",
      "Len rows is  2\n",
      "{'$good$': 0.7071067811865475, '$mood$': 0.7071067811865475}\n",
      "{'$russia$': 0.4082482904638631, '$ha$': 0.4082482904638631, '$larger$': 0.4082482904638631, '$surfac$': 0.4082482904638631, '$area$': 0.4082482904638631, '$pluto$': 0.4082482904638631}\n",
      "Len rows is  2\n",
      "{'$good$': 0.7071067811865475, '$mood$': 0.7071067811865475}\n",
      "{'$opera$': 0.31622776601683794, '$hous$': 0.31622776601683794, '$uscanada$': 0.31622776601683794, '$border$': 0.31622776601683794, '$stage$': 0.31622776601683794, '$one$': 0.31622776601683794, '$countri$': 0.31622776601683794, '$half$': 0.31622776601683794, '$audienc$': 0.31622776601683794, '$anoth$': 0.31622776601683794}\n",
      "Len rows is  2\n",
      "{'$good$': 0.7071067811865475, '$mood$': 0.7071067811865475}\n",
      "{'$harder$': 0.2886751345948129, '$concentr$': 0.2886751345948129, '$fall$': 0.5773502691896258, '$asleep$': 0.5773502691896258, '$le$': 0.2886751345948129, '$like$': 0.2886751345948129}\n",
      "Len rows is  2\n",
      "{'$good$': 0.7071067811865475, '$mood$': 0.7071067811865475}\n",
      "{'$cant$': 0.4472135954999579, '$hum$': 0.4472135954999579, '$hold$': 0.4472135954999579, '$nose$': 0.4472135954999579, '$close$': 0.4472135954999579}\n",
      "Len rows is  2\n",
      "{'$good$': 0.7071067811865475, '$mood$': 0.7071067811865475}\n",
      "{'$woman$': 0.2773500981126146, '$twice$': 0.2773500981126146, '$mani$': 0.2773500981126146, '$pain$': 0.5547001962252291, '$receptor$': 0.2773500981126146, '$bodi$': 0.2773500981126146, '$men$': 0.2773500981126146, '$much$': 0.2773500981126146, '$higher$': 0.2773500981126146, '$toler$': 0.2773500981126146}\n",
      "Len rows is  2\n",
      "{'$good$': 0.7071067811865475, '$mood$': 0.7071067811865475}\n",
      "{'$star$': 0.3779644730092272, '$space$': 0.3779644730092272, '$grain$': 0.3779644730092272, '$sand$': 0.3779644730092272, '$everi$': 0.3779644730092272, '$beach$': 0.3779644730092272, '$world$': 0.3779644730092272}\n",
      "Len rows is  2\n",
      "{'$good$': 0.7071067811865475, '$mood$': 0.7071067811865475}\n",
      "{'$everi$': 0.4472135954999579, '$human$': 0.4472135954999579, '$earth$': 0.4472135954999579, '$million$': 0.4472135954999579, '$ant$': 0.4472135954999579}\n",
      "Len rows is  2\n",
      "{'$good$': 0.7071067811865475, '$mood$': 0.7071067811865475}\n",
      "{'$total$': 0.4472135954999579, '$weight$': 0.4472135954999579, '$ant$': 0.4472135954999579, '$howev$': 0.4472135954999579, '$human$': 0.4472135954999579}\n",
      "Len rows is  2\n",
      "{'$good$': 0.7071067811865475, '$mood$': 0.7071067811865475}\n",
      "{'$jupit$': 0.5, '$saturn$': 0.5, '$rain$': 0.5, '$diamond$': 0.5}\n",
      "Len rows is  2\n"
     ],
     "output_type": "stream"
    }
   ],
   "source": [
    "from System.Indexer.indexer import Indexer\n",
    "#TODO output closest facts to the query\n",
    "query = \"good mood\"\n",
    "counter = 1\n",
    "indexer = Indexer()\n",
    "for fact in facts:\n",
    "    indexer((str(counter), fact))\n",
    "    counter+=1\n",
    "#print(indexer.term_doc_matrix)\n",
    "r = indexer.optimize_via_cosine(query, [str(i) for i in range(1,len(facts)+1)])"
   ]
  },
  {
   "cell_type": "code",
   "execution_count": 9,
   "outputs": [
    {
     "name": "stdout",
     "text": [
      "(0.2357022603955158, '64') 60. It is considered good luck in Japan when a sumo wrestler makes your baby cry.\n",
      "\n"
     ],
     "output_type": "stream"
    }
   ],
   "source": [
    "r = list(zip(r[0],r[1]))\n",
    "r = list(reversed(sorted(r)))\n",
    "print(r[0], facts[int(r[0][1])-1])\n",
    "# print(\"Results for query:\", query)\n",
    "# r = model.most_similar(query.split(' '))\n",
    "# print(r)\n",
    "# for k, v, p in r:\n",
    "#     print(\"\\t\", facts[k], \"sim=\", p)"
   ],
   "metadata": {
    "collapsed": false,
    "pycharm": {
     "name": "#%%\n",
     "is_executing": false
    }
   }
  },
  {
   "cell_type": "markdown",
   "metadata": {},
   "source": [
    "## 2. Training doc2vec model and documents classifier\n",
    "\n",
    "Now we would like you to train doc2vec model yourself based on [this topic-modeling dataset](https://code.google.com/archive/p/topic-modeling-tool/downloads).\n",
    "\n",
    "### 2.1 Read dataset\n",
    "\n",
    "First, read the dataset - it consists of 4 parts, you need to merge them into single list. "
   ]
  },
  {
   "cell_type": "code",
   "execution_count": 30,
   "metadata": {
    "collapsed": true,
    "pycharm": {
     "is_executing": false
    }
   },
   "outputs": [],
   "source": [
    "file_names = ['testdata_braininjury_10000docs.txt', 'testdata_news_economy_2073docs.txt',\n",
    "              'testdata_news_fuel_845docs.txt','testdata_news_music_2084docs.txt']\n",
    "all_data = []\n",
    "\n",
    "for file in file_names:\n",
    "    f = open('../../'+file, 'r')\n",
    "    all_data.extend(list(zip(f.readlines(),[file]*100000)))"
   ]
  },
  {
   "cell_type": "markdown",
   "metadata": {},
   "source": [
    "### 2.2 Tests "
   ]
  },
  {
   "cell_type": "code",
   "execution_count": 31,
   "metadata": {
    "pycharm": {
     "is_executing": false
    }
   },
   "outputs": [
    {
     "name": "stdout",
     "text": [
      "15002\n"
     ],
     "output_type": "stream"
    }
   ],
   "source": [
    "print(len(all_data))\n",
    "assert len(all_data) == 15002"
   ]
  },
  {
   "cell_type": "markdown",
   "metadata": {},
   "source": [
    "### 2.3 Training `doc2vec` model\n",
    "\n",
    "Train a `doc2vec` model based on the dataset you've loaded. The example of training is provided."
   ]
  },
  {
   "cell_type": "code",
   "execution_count": 27,
   "metadata": {
    "scrolled": true,
    "pycharm": {
     "is_executing": false
    }
   },
   "outputs": [
    {
     "name": "stdout",
     "text": [
      "[['human', 'interface', 'computer'], ['survey', 'user', 'computer', 'system', 'response', 'time'], ['eps', 'user', 'interface', 'system'], ['system', 'human', 'system', 'eps'], ['user', 'response', 'time'], ['trees'], ['graph', 'trees'], ['graph', 'minors', 'trees'], ['graph', 'minors', 'survey']] \n",
      "\n",
      "[TaggedDocument(words=['human', 'interface', 'computer'], tags=[0]), TaggedDocument(words=['survey', 'user', 'computer', 'system', 'response', 'time'], tags=[1]), TaggedDocument(words=['eps', 'user', 'interface', 'system'], tags=[2]), TaggedDocument(words=['system', 'human', 'system', 'eps'], tags=[3]), TaggedDocument(words=['user', 'response', 'time'], tags=[4]), TaggedDocument(words=['trees'], tags=[5]), TaggedDocument(words=['graph', 'trees'], tags=[6]), TaggedDocument(words=['graph', 'minors', 'trees'], tags=[7]), TaggedDocument(words=['graph', 'minors', 'survey'], tags=[8])] \n",
      "\n",
      "[-0.05293733 -0.00942373  0.09095236  0.05740672  0.02836587]\n"
     ],
     "output_type": "stream"
    }
   ],
   "source": [
    "#TODO change this according to the task\n",
    "# small set of tokenized sentences\n",
    "from gensim.test.utils import common_texts\n",
    "from gensim.models.doc2vec import Doc2Vec, TaggedDocument\n",
    "# just a test set of tokenized sentences\n",
    "print(common_texts, \"\\n\")\n",
    "documents = [TaggedDocument(doc, [i]) for i, doc in enumerate(common_texts)]\n",
    "print(documents, \"\\n\")\n",
    "# train a model\n",
    "model = Doc2Vec(\n",
    "    documents,     # collection of texts\n",
    "    vector_size=5, # output vector size\n",
    "    window=2,      # maximum distance between the target word and its neighboring word\n",
    "    min_count=1,   # minimal number of \n",
    "    workers=4      # in parallel\n",
    ")\n",
    "\n",
    "# clean training data\n",
    "model.delete_temporary_training_data(keep_doctags_vectors=True, keep_inference=True)\n",
    "\n",
    "# save and load\n",
    "model.save(\"d2v.model\")\n",
    "model = Doc2Vec.load(\"d2v.model\")\n",
    "\n",
    "vec = model.infer_vector([\"system\", \"response\"])\n",
    "print(vec)"
   ]
  },
  {
   "cell_type": "markdown",
   "metadata": {},
   "source": [
    "### 2.4 Form train and test datasets\n",
    "\n",
    "Transform documents to vectors and split data to train and test sets. Make sure that the split is stratified as the classes are imbalanced."
   ]
  },
  {
   "cell_type": "code",
   "execution_count": 33,
   "metadata": {
    "collapsed": true,
    "pycharm": {
     "is_executing": false
    }
   },
   "outputs": [],
   "source": [
    "import numpy as np\n",
    "#TODO transforn and make a train-test split\n",
    "numpy_all = np.array(all_data)\n",
    "np.random.shuffle(numpy_all)\n",
    "thresh = len(numpy_all) * 8 // 10\n",
    "\n",
    "X_train, X_test, y_train, y_test = numpy_all[:thresh], numpy_all[thresh:], numpy_all[:thresh], numpy_all[thresh:]"
   ]
  },
  {
   "cell_type": "code",
   "execution_count": 34,
   "outputs": [
    {
     "name": "stdout",
     "text": [
      "['the beginning january gustavo sibona young physicist the edge international fame departed argentina with his wife carola and three children the youngest whom was only few months old and just his pocket gustavo hadn received his last two paychecks the national technological university and carola who worked the dean office the university cordoba suffered the same despite desperate protests and attempts deal with the banking maze and bureaucratic webs that each day grew more complex they were also unable withdraw savings they had set aside for emergencies unlike the majority argentineans abandoning masse the country where they were educated gustavo was hired almost immediately augsburg bavarian city kilometers northeast munich the vast distance and loss loved ones made this exodus for both them indescribable separation without name emptiness like that following death carola the great granddaughter jorge newbery hero argentine aviation and the engineer who designed the centennial illuminations avenida mayo she had always felt debt gratitude for this family legacy indestructible bond tying her her country they set out from argentina perhaps the lines the poem jorge luis borges spoke friend before leaving forever for geneva came mind once had fatherland you recall and both lost argentina becoming lonelier than ever after the exodus tens thousands people who have intention coming back returning the desert that provoked such mid 19th century unease domingo faustino sarmiento seems not only destiny but also doom the disease afflicting the argentine republic its vastness one reads the beginning his masterpiece facundo the desert surrounds all sides and insinuates itself into its core little after sarmiento wrote these lines demographics began change when waves immigrants from europe and the middle east swept the rio plata between and million human beings arrived which third were returned their country origin expelled inhumane decrees such residence law but the last half century was argentineans who started emigrating argentina has been besieged devastating tragedies since bloody dictatorship war that was catastrophic though lasted merely two months two years hyperinflation decapitalization brought about the sale almost all the nation assets with the incredible effect that the more assets sold the greater the national debt became and the last days the pathetic circus five successive presidents days that however just the edge the abyss the last six weeks unemployment has reached already more than third the active population the nation four biggest cities there are thousands people who are literally dying hunger and hundreds thousands children who work miserable conditions without having gone school health clinic for vaccine the collapsed underground economy only the visible face the quicksand where the more one struggles get out the deeper one sinks and yet perhaps not one these calamities will have such irreparable effect argentina future health the exodus its citizens thirty thousand people already fully educated according not always reliable consulate figures are taking with them their experience and knowledge gained country where the way things are stay would squander life this endless human resources drain will hold the country recovery with more lethal efficacy than the collapse thousands companies and bankruptcy the state the book job perhaps economic prostration can corrected some day but argentineans who leave are gone for ever juan peron first government provoked painful exiles like julio cortazar who sick and tired left argentina then single night july the ridiculous gen juan carlos ongania expelled scientists and brilliant professors from argentina universities one whom later received nobel prize the astrologer jose lopez rega initiated blood bath that lasted decade hundreds thousands argentineans went into exile then either through desperation fear all those migrations like the captives who fled federal prison camps the mid 19th century had political rationale they are for all intents and purposes form exile which according the dictionary authorities means expulsion banishment these punishments had time limits and those who were exiled departed the hope eventually returning what happening now instead exodus voluntary exit according the same dictionary form expatriation without possible return the protagonists the exodus renounce the identity with which they are born and travel search another which sometimes that their ancestors and sometimes not the latter could under the alias forget fatigue the need halt this flight resisted discouraging reality how can tell year olds not leave when there are more than million young people between ages and who are neither studying nor working what future can offer middle age engineer bricklayer who had managed hold down job only lose last december disaster and who now unable feed his family there are thousands such cases every day people who can longer drag themselves out bed each day who even have reason awake consolation for hopelessness that never ends thousands other argentineans not wanting give have declared rebellion and disobedience this they express banging pots and pans buenos aires landmarks and calling for the resignation those government officials responsible for the disaster but who would want take over the reins providential saviors who could take argentina along even worse paths than before while true that many those who still hold important posts cling like vines their privileges also true that some those who seek replace them not out spirit sacrifice but for the spoils for example the apocalypse that former president carlos saul menem preaches from the seaside resorts now inhabits whether puerto vallarta vina del mar seems inspired less love the argentinean people and than love himself exodus has never been good choice for anyone but for the thousands who wait dawn outside the european consulates buenos aires there doesn seem any other they longer feel tied country where the language promises has been devalued much like the national currency french philosopher gilles deleuze said that lines flight are equal lines death this case the line death threatens not those who are leaving but the country which remains tomas eloy martinez the author the peron novel and santa evita chairman the latin american studies department rutgers university and travels widely editor and journalist nonsubscribers publish separate buy feature article must purchased please contact one these sales representatives and canada debra weydert new jersey fax europe and asia karl horwitz paris fax telex \\n'\n",
      " 'testdata_news_economy_2073docs.txt']\n"
     ],
     "output_type": "stream"
    }
   ],
   "source": [
    "print(X_train[0])\n"
   ],
   "metadata": {
    "collapsed": false,
    "pycharm": {
     "name": "#%%\n",
     "is_executing": false
    }
   }
  },
  {
   "cell_type": "markdown",
   "metadata": {},
   "source": [
    "\n",
    "\n",
    "### 2.5 Train topics classifier\n",
    "\n",
    "Train a classifier that would classify any document to one of four categories: fuel, brain injury, music, and economy.\n",
    "Print a classification report for test data."
   ]
  },
  {
   "cell_type": "code",
   "execution_count": null,
   "metadata": {
    "collapsed": true
   },
   "outputs": [],
   "source": [
    "#TODO train a classifier and measure its performance\n",
    "\n",
    "from sklearn.metrics import classification_report\n",
    "print(classification_report(y_test, y_pred))"
   ]
  },
  {
   "cell_type": "markdown",
   "metadata": {},
   "source": [
    "Which class is the hardest one to recognize?"
   ]
  },
  {
   "cell_type": "markdown",
   "metadata": {},
   "source": [
    "### 2.6 Bonus task\n",
    "\n",
    "What if we trained our `doc2vec` model using window size = 5 or 10? Would it improve the classification acccuracy? What about vector dimensionality? Does it mean that increasing it we will achieve better performance in terms of classification?\n",
    "\n",
    "Explore the influence of these parameters on classification performance, visualizing it as a graph (e.g. window size vs f1-score, vector dim vs f1-score)."
   ]
  },
  {
   "cell_type": "code",
   "execution_count": null,
   "metadata": {
    "collapsed": true
   },
   "outputs": [],
   "source": [
    "#TODO bonus task"
   ]
  }
 ],
 "metadata": {
  "kernelspec": {
   "display_name": "Python 3",
   "language": "python",
   "name": "python3"
  },
  "language_info": {
   "codemirror_mode": {
    "name": "ipython",
    "version": 3
   },
   "file_extension": ".py",
   "mimetype": "text/x-python",
   "name": "python",
   "nbconvert_exporter": "python",
   "pygments_lexer": "ipython3",
   "version": "3.7.5"
  },
  "pycharm": {
   "stem_cell": {
    "cell_type": "raw",
    "source": [],
    "metadata": {
     "collapsed": false
    }
   }
  }
 },
 "nbformat": 4,
 "nbformat_minor": 2
}