{
 "cells": [
  {
   "cell_type": "markdown",
   "metadata": {},
   "source": [
    "# Crawler\n",
    " \n",
    "lets call crawler and fetch some documents"
   ]
  },
  {
   "cell_type": "code",
   "execution_count": 1,
   "metadata": {},
   "outputs": [],
   "source": [
    "!root=~/PycharmProjects/"
   ]
  },
  {
   "cell_type": "code",
   "execution_count": 2,
   "metadata": {},
   "outputs": [],
   "source": [
    "!cd Crawler"
   ]
  },
  {
   "cell_type": "code",
   "execution_count": 3,
   "metadata": {},
   "outputs": [
    {
     "name": "stdout",
     "output_type": "stream",
     "text": [
      "False\n",
      "file reut2-002 docs are being processed and extracted to ./.misc/docs/reut2-002\n"
     ]
    }
   ],
   "source": [
    "from Crawler.crawler import Crawler\n",
    "\n",
    "crawler = Crawler(downloaded=False)\n",
    "print(crawler.downloaded)\n",
    "crawler.get_collection()\n"
   ]
  },
  {
   "cell_type": "code",
   "execution_count": 4,
   "metadata": {},
   "outputs": [
    {
     "data": {
      "text/plain": [
       "\"./.misc/docs/reut2-002/879.txt\\n\\n 6-MAR-1987 16:33:01.61\\n\\nusasouth-korea\\n\\n\\n\\n\\n \\n\\x05\\x05\\x05F\\n\\x16\\x16\\x01f0575\\x1freute\\nu f AM-HAWKS   03-06 0089\\n\\x02\\nU.S. TO SELL ELECTRONIC EQUIPMENT TO S. KOREA\\n    WASHINGTON, March 6 - The United States plans to sell 84\\nmln dlrs in electronic equipment to South Korea to upgrade that\\ncountry's Hawk anti-aircraft missiles, the Reagan\\nadministration announced.\\n    The sale of 28 modification kits to upgrade the I-Hawk\\n(Improved Hawk) missiles already in South Korea is expected to\\nbecome official in 30 days without objection from Congress.\\n    Prime contractor on the sale is the Raytheon Corp <RTN>,\\nwhich builds the Hawk medium-range missiles.\\n Reuter\\n\\x03\\n\""
      ]
     },
     "execution_count": 4,
     "metadata": {},
     "output_type": "execute_result"
    }
   ],
   "source": [
    "crawler.retrieve_docs() # retrieve random doc from the docs collection :3 "
   ]
  },
  {
   "cell_type": "code",
   "execution_count": 5,
   "metadata": {},
   "outputs": [],
   "source": [
    "from Indexer.indexer import Indexer\n",
    "indexer = Indexer()"
   ]
  },
  {
   "cell_type": "code",
   "execution_count": 47,
   "metadata": {},
   "outputs": [],
   "source": [
    "doc = crawler.retrieve_docs()\n",
    "path = doc.split('\\n')[0]\n",
    "doc = '\\n'.join(doc[1:])\n",
    "doc = path,doc\n",
    "indexer(doc)"
   ]
  },
  {
   "cell_type": "code",
   "execution_count": 48,
   "metadata": {},
   "outputs": [
    {
     "name": "stdout",
     "output_type": "stream",
     "text": [
      "he*\n",
      "['he*']\n",
      "Retrieving data from db\n",
      "Retrieving data from db\n",
      "Retrieving data from db\n",
      "Retrieving data from db\n",
      "Retrieving data from db\n",
      "Query expression is ::   ($hearing$ || $headline$ || $headlined$ || $heller$ || $heatusa$ || $helpedkeep$ || $held$ || $help$ || $heating$) \n"
     ]
    },
    {
     "data": {
      "text/plain": [
       "(' ($hearing$ || $headline$ || $headlined$ || $heller$ || $heatusa$ || $helpedkeep$ || $held$ || $help$ || $heating$) ',\n",
       " ['./.misc/docs/reut2-002/914.txt',\n",
       "  './.misc/docs/reut2-002/725.txt',\n",
       "  './.misc/docs/reut2-002/534.txt',\n",
       "  './.misc/docs/reut2-002/804.txt',\n",
       "  './.misc/docs/reut2-002/364.txt',\n",
       "  './.misc/docs/reut2-002/634.txt',\n",
       "  './.misc/docs/reut2-002/643.txt',\n",
       "  './.misc/docs/reut2-002/696.txt'])"
      ]
     },
     "execution_count": 48,
     "metadata": {},
     "output_type": "execute_result"
    }
   ],
   "source": [
    "indexer.search(\"he*\")"
   ]
  },
  {
   "cell_type": "code",
   "execution_count": 49,
   "metadata": {},
   "outputs": [
    {
     "name": "stdout",
     "output_type": "stream",
     "text": [
      "in*y\n",
      "['in*y']\n",
      "Retrieving data from db\n",
      "Query expression is ::   ($industry$ || $injanuary$) \n"
     ]
    },
    {
     "data": {
      "text/plain": [
       "(' ($industry$ || $injanuary$) ',\n",
       " ['./.misc/docs/reut2-002/48.txt', './.misc/docs/reut2-002/995.txt'])"
      ]
     },
     "execution_count": 49,
     "metadata": {},
     "output_type": "execute_result"
    }
   ],
   "source": [
    "indexer.search(\"in*y\")"
   ]
  },
  {
   "cell_type": "code",
   "execution_count": 50,
   "metadata": {},
   "outputs": [
    {
     "data": {
      "text/plain": [
       "['$iny$', '$rsg$']"
      ]
     },
     "execution_count": 50,
     "metadata": {},
     "output_type": "execute_result"
    }
   ],
   "source": [
    "indexer.parser.preprocess(\"in*y+rs*g\")"
   ]
  },
  {
   "cell_type": "code",
   "execution_count": 10,
   "metadata": {},
   "outputs": [
    {
     "data": {
      "text/plain": [
       "1"
      ]
     },
     "execution_count": 10,
     "metadata": {},
     "output_type": "execute_result"
    }
   ],
   "source": [
    "max([len(indexer.aux_index[key]) for key in indexer.aux_index.keys()])"
   ]
  }
 ],
 "metadata": {
  "colab": {
   "collapsed_sections": [],
   "name": "week2.ipynb",
   "provenance": []
  },
  "kernelspec": {
   "display_name": "Python 3",
   "language": "python",
   "name": "python3"
  },
  "language_info": {
   "codemirror_mode": {
    "name": "ipython",
    "version": 3
   },
   "file_extension": ".py",
   "mimetype": "text/x-python",
   "name": "python",
   "nbconvert_exporter": "python",
   "pygments_lexer": "ipython3",
   "version": "3.7.4"
  },
  "pycharm": {
   "stem_cell": {
    "cell_type": "raw",
    "metadata": {
     "collapsed": false
    },
    "source": []
   }
  }
 },
 "nbformat": 4,
 "nbformat_minor": 1
}
