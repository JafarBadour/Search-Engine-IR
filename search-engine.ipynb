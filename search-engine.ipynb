{
 "cells": [
  {
   "cell_type": "markdown",
   "metadata": {},
   "source": [
    "# Crawler\n",
    " \n",
    "lets call crawler and fetch some documents"
   ]
  },
  {
   "cell_type": "code",
   "execution_count": 1,
   "metadata": {},
   "outputs": [],
   "source": [
    "!root=~/PycharmProjects/"
   ]
  },
  {
   "cell_type": "code",
   "execution_count": 2,
   "metadata": {},
   "outputs": [],
   "source": [
    "!cd Crawler"
   ]
  },
  {
   "cell_type": "code",
   "execution_count": 3,
   "metadata": {},
   "outputs": [
    {
     "name": "stdout",
     "output_type": "stream",
     "text": [
      "False\n",
      "file reut2-000 docs are being processed and extracted to ./.misc/docs/reut2-000\n"
     ]
    }
   ],
   "source": [
    "from Crawler.crawler import Crawler\n",
    "\n",
    "crawler = Crawler(downloaded=False)\n",
    "print(crawler.downloaded)\n",
    "crawler.get_collection()\n"
   ]
  },
  {
   "cell_type": "code",
   "execution_count": 4,
   "metadata": {},
   "outputs": [
    {
     "data": {
      "text/plain": [
       "('./.misc/docs/reut2-000/858.txt',\n",
       " '\\n 2-MAR-1987 18:34:32.90\\n\\nusa\\n\\n\\n\\n\\n \\n\\x05\\x05\\x05F\\n\\x16\\x16\\x01f0323\\x1freute\\nr f BC-REUTERS-<RTRSY>-IN-RE   03-02 0106\\n\\x02\\nREUTERS <RTRSY> IN REAL ESTATE MARKET VENTURE\\n    NEW YORK, March 2 - Reuters Holdings PLC said its Reuters\\nInformation Services Inc unit will join <Real Estate Financing\\nPartnership>, Philadelphia, to offer an electronic market\\naccess system for commercial property financing.\\n    Reuters said the system, named Real Estate Select View\\nProgram, or RSVP, will use its private communications network\\nto provide a confidential method for the purchasing, selling\\nand financing of commercial property.\\n    The system, set for testing in August in selected U.S.\\ncities, is expected to be operational 90 days after initial\\ntesting, Reuters said.\\n Reuter\\n\\x03\\n')"
      ]
     },
     "execution_count": 4,
     "metadata": {},
     "output_type": "execute_result"
    }
   ],
   "source": [
    "crawler.retrieve_docs() # retrieve random doc from the docs collection :3 "
   ]
  },
  {
   "cell_type": "code",
   "execution_count": 5,
   "metadata": {},
   "outputs": [],
   "source": [
    "from Indexer.indexer import Indexer\n",
    "indexer = Indexer()"
   ]
  },
  {
   "cell_type": "code",
   "execution_count": 20,
   "metadata": {},
   "outputs": [],
   "source": [
    "indexer(crawler.retrieve_docs())"
   ]
  },
  {
   "cell_type": "code",
   "execution_count": 23,
   "metadata": {},
   "outputs": [
    {
     "name": "stdout",
     "output_type": "stream",
     "text": [
      "Query expression is ::   ($industry$) \n"
     ]
    },
    {
     "data": {
      "text/plain": [
       "['./.misc/docs/reut2-000/657.txt']"
      ]
     },
     "execution_count": 23,
     "metadata": {},
     "output_type": "execute_result"
    }
   ],
   "source": [
    "indexer.search(\"in*y\")"
   ]
  },
  {
   "cell_type": "code",
   "execution_count": 24,
   "metadata": {},
   "outputs": [
    {
     "data": {
      "text/plain": [
       "7"
      ]
     },
     "execution_count": 24,
     "metadata": {},
     "output_type": "execute_result"
    }
   ],
   "source": [
    "max([len(indexer.aux_index[key]) for key in indexer.aux_index.keys()])"
   ]
  }
 ],
 "metadata": {
  "colab": {
   "collapsed_sections": [],
   "name": "week2.ipynb",
   "provenance": []
  },
  "kernelspec": {
   "display_name": "Python 3",
   "language": "python",
   "name": "python3"
  },
  "language_info": {
   "codemirror_mode": {
    "name": "ipython",
    "version": 3
   },
   "file_extension": ".py",
   "mimetype": "text/x-python",
   "name": "python",
   "nbconvert_exporter": "python",
   "pygments_lexer": "ipython3",
   "version": "3.7.4"
  },
  "pycharm": {
   "stem_cell": {
    "cell_type": "raw",
    "metadata": {
     "collapsed": false
    },
    "source": []
   }
  }
 },
 "nbformat": 4,
 "nbformat_minor": 1
}
